{
 "cells": [
  {
   "cell_type": "markdown",
   "metadata": {},
   "source": [
    "# Week 11: PyTorch\n"
   ]
  },
  {
   "cell_type": "markdown",
   "metadata": {},
   "source": [
    "Pytorch is a popular deep learning framework and it's easy to get started. Most of the materials of this tutorial are taken from the [tutorials at pytorch website](https://pytorch.org/tutorials/beginner/deep_learning_60min_blitz.html), [pytorch tutorial on torch.nn](https://pytorch.org/tutorials/beginner/nn_tutorial.html), [Pytorch Tutorial](https://www.learnpytorch.io/), [RNN Tutorial](https://github.com/dair-ai/pytorch_notebooks/tree/master), [MNIST application tutorial](https://towardsdatascience.com/an-actual-application-for-the-mnist-digits-classifier-bbd76548bf2f), and [this tutorial](https://towardsdatascience.com/handwritten-digit-mnist-pytorch-977b5338e627).\n",
    "\n",
    "Learning Outcomes:\n",
    "\n",
    "- Basic concepts of PyTorch\n",
    "  - Tensors\n",
    "  - Basic Operations\n",
    "  - Autograd\n",
    "  - GPU support\n",
    "- Simple Neural Network\n",
    "  - Network Structure\n",
    "  - Loss Function\n",
    "  - Optimizer\n",
    "  - Training\n",
    "- Simple RNNS\n",
    "  - Network Structure\n",
    "  - Loss Function\n",
    "  - Optimizer\n",
    "  - Training\n",
    "\n",
    "## Importing PyTorch\n",
    "\n",
    "> **Note:** Before running any of the code in this notebook, you should have gone through the [PyTorch setup steps](https://pytorch.org/get-started/locally/).\n",
    ">\n",
    "> However, **if you're running on Google Colab**, everything should work (Google Colab comes with PyTorch and other libraries installed).\n",
    "\n",
    "<a href=\"https://drive.google.com/file/d/1NC64NDOONBzZFx8uiVpV9Z06so60ITih/view?usp=sharing\" target=\"_parent\"><img src=\"https://colab.research.google.com/assets/colab-badge.svg\" alt=\"Open In Colab\"/></a>\n"
   ]
  },
  {
   "cell_type": "code",
   "execution_count": 2,
   "metadata": {},
   "outputs": [
    {
     "data": {
      "text/plain": [
       "'2.1.2+cu121'"
      ]
     },
     "execution_count": 2,
     "metadata": {},
     "output_type": "execute_result"
    }
   ],
   "source": [
    "import torch\n",
    "\n",
    "torch.__version__  # for CPU version, the version ends with +cpu; for GPU version, the version ends with +cuXXX (e.g., +cu121)"
   ]
  },
  {
   "cell_type": "code",
   "execution_count": 4,
   "metadata": {},
   "outputs": [
    {
     "name": "stdout",
     "output_type": "stream",
     "text": [
      "True\n"
     ]
    }
   ],
   "source": [
    "print(\n",
    "    torch.cuda.is_available()\n",
    ")  # check if GPU is available, if not, you may need to install the GPU version of PyTorch"
   ]
  },
  {
   "cell_type": "code",
   "execution_count": 5,
   "metadata": {},
   "outputs": [],
   "source": [
    "# import other necessary packages\n",
    "import numpy as np\n",
    "import matplotlib.pyplot as plt\n",
    "from matplotlib.colors import to_rgba\n",
    "\n",
    "\n",
    "import time\n",
    "\n",
    "from tqdm import tqdm  # this is mainly for displaying the progress bar\n",
    "from sklearn.model_selection import train_test_split"
   ]
  },
  {
   "cell_type": "markdown",
   "metadata": {},
   "source": [
    "## Introduction to tensors\n",
    "\n",
    "Now we've got PyTorch imported, it's time to learn about tensors. Tensors are the fundamental building block of machine learning. Their job is to represent data in a numerical way.\n",
    "\n",
    "For example, you could represent an image as a tensor with shape `[3, 224, 224]` which would mean `[colour_channels, height, width]`, as in the image has `3` colour channels (red, green, blue), a height of `224` pixels and a width of `224` pixels.\n",
    "\n",
    "<div style=\"text-align:center\">\n",
    "<img src=\"https://raw.githubusercontent.com/mrdbourke/pytorch-deep-learning/main/images/00-tensor-shape-example-of-image.png\" alt=\"example of going from an input image to a tensor representation of the image, image gets broken down into 3 colour channels as well as numbers to represent the height and width\" style=\"width:800pt\">\n",
    "</div>\n",
    "\n",
    "The tensor for this image would have three dimensions, one for `colour_channels`, `height` and `width`.\n",
    "\n",
    "Let's learn more about tensors by coding them.\n"
   ]
  },
  {
   "cell_type": "markdown",
   "metadata": {},
   "source": [
    "### Creating tensors\n",
    "\n",
    "You may turn to the [`torch.Tensor`](https://pytorch.org/docs/stable/tensors.html) document page for more details.\n",
    "\n",
    "The first thing we're going to create is a **scalar**.\n"
   ]
  },
  {
   "cell_type": "code",
   "execution_count": 6,
   "metadata": {},
   "outputs": [
    {
     "data": {
      "text/plain": [
       "(tensor(7), 7, 0)"
      ]
     },
     "execution_count": 6,
     "metadata": {},
     "output_type": "execute_result"
    }
   ],
   "source": [
    "# Scalar\n",
    "scalar = torch.tensor(7)\n",
    "scalar, scalar.item(), scalar.ndim"
   ]
  },
  {
   "cell_type": "markdown",
   "metadata": {},
   "source": [
    "Okay, now let's see a **vector**. A vector is a single dimension tensor but can contain many numbers.\n",
    "\n",
    "As in, you could have a vector `[3, 2]` to describe `[bedrooms, bathrooms]` in your house. Or you could have `[3, 2, 2]` to describe `[bedrooms, bathrooms, car_parks]` in your house.\n"
   ]
  },
  {
   "cell_type": "code",
   "execution_count": 11,
   "metadata": {},
   "outputs": [
    {
     "data": {
      "text/plain": [
       "(tensor([7, 7]), 1, torch.Size([2]), tensor(7))"
      ]
     },
     "execution_count": 11,
     "metadata": {},
     "output_type": "execute_result"
    }
   ],
   "source": [
    "# Vector\n",
    "vector = torch.tensor([7, 7])\n",
    "vector, vector.ndim, vector.shape, vector[1]"
   ]
  },
  {
   "cell_type": "markdown",
   "metadata": {},
   "source": [
    "Let's now see a **matrix**.\n"
   ]
  },
  {
   "cell_type": "code",
   "execution_count": 19,
   "metadata": {},
   "outputs": [
    {
     "data": {
      "text/plain": [
       "(tensor([[ 7,  8],\n",
       "         [ 9, 10]]),\n",
       " 2,\n",
       " torch.Size([2, 2]),\n",
       " tensor(10))"
      ]
     },
     "execution_count": 19,
     "metadata": {},
     "output_type": "execute_result"
    }
   ],
   "source": [
    "# Matrix\n",
    "MATRIX = torch.tensor([[7, 8], [9, 10]])\n",
    "MATRIX, MATRIX.ndim, MATRIX.shape, MATRIX[1, 1]"
   ]
  },
  {
   "cell_type": "code",
   "execution_count": 20,
   "metadata": {},
   "outputs": [
    {
     "data": {
      "text/plain": [
       "(tensor([[[1, 2, 3],\n",
       "          [3, 6, 9],\n",
       "          [2, 4, 5]]]),\n",
       " 3,\n",
       " torch.Size([1, 3, 3]),\n",
       " tensor(9))"
      ]
     },
     "execution_count": 20,
     "metadata": {},
     "output_type": "execute_result"
    }
   ],
   "source": [
    "# Tensor, actually tensor contains all the above\n",
    "TENSOR = torch.tensor([[[1, 2, 3], [3, 6, 9], [2, 4, 5]]])\n",
    "TENSOR, TENSOR.ndim, TENSOR.shape, TENSOR[0, 1, 2]"
   ]
  },
  {
   "cell_type": "markdown",
   "metadata": {},
   "source": [
    "Let's summarise.\n",
    "\n",
    "| Name       | What is it?                                                                                   | Number of dimensions                                                                  | Lower or upper (usually/example) |\n",
    "| ---------- | --------------------------------------------------------------------------------------------- | ------------------------------------------------------------------------------------- | -------------------------------- |\n",
    "| **scalar** | a single number                                                                               | 0                                                                                     | Lower (`a`)                      |\n",
    "| **vector** | a number with direction (e.g. wind speed with direction) but can also have many other numbers | 1                                                                                     | Lower (`y`)                      |\n",
    "| **matrix** | a 2-dimensional array of numbers                                                              | 2                                                                                     | Upper (`Q`)                      |\n",
    "| **tensor** | an n-dimensional array of numbers                                                             | can be any number, a 0-dimension tensor is a scalar, a 1-dimension tensor is a vector | Upper (`X`)                      |\n",
    "\n",
    "But remember that tensor can only have one data type (possible data types are `float`, `int`, `bool`, etc.). If you try to create a tensor with multiple data types, PyTorch will change all the data types to the most appropriate one.\n",
    "\n",
    "In practice, pytorch.tensor provides a lot of functionalities. For example, you can create a tensor with random numbers, zeros, ones, etc. You can also convert a numpy array to a tensor and vice versa. You can regard pytorch tensor as a numpy array with GPU support and most functions of numpy are also supported in pytorch tensor.\n"
   ]
  },
  {
   "cell_type": "code",
   "execution_count": 21,
   "metadata": {},
   "outputs": [
    {
     "data": {
      "text/plain": [
       "(tensor([[0.1029, 0.0191, 0.2799, 0.7793],\n",
       "         [0.7842, 0.3980, 0.2345, 0.8761],\n",
       "         [0.8995, 0.8919, 0.0882, 0.8366]]),\n",
       " torch.float32)"
      ]
     },
     "execution_count": 21,
     "metadata": {},
     "output_type": "execute_result"
    }
   ],
   "source": [
    "# Create a random tensor of size (3, 4), this is commonly used in deep learning to initialize weights\n",
    "random_tensor = torch.rand(size=(3, 4))\n",
    "random_tensor, random_tensor.dtype"
   ]
  },
  {
   "cell_type": "code",
   "execution_count": 22,
   "metadata": {},
   "outputs": [
    {
     "data": {
      "text/plain": [
       "(torch.Size([224, 224, 3]), 3)"
      ]
     },
     "execution_count": 22,
     "metadata": {},
     "output_type": "execute_result"
    }
   ],
   "source": [
    "# Create a random tensor of size (224, 224, 3)\n",
    "random_image_size_tensor = torch.rand(size=(224, 224, 3))\n",
    "random_image_size_tensor.shape, random_image_size_tensor.ndim"
   ]
  },
  {
   "cell_type": "code",
   "execution_count": 25,
   "metadata": {},
   "outputs": [
    {
     "data": {
      "text/plain": [
       "(tensor([[0., 0., 0., 0.],\n",
       "         [0., 0., 0., 0.],\n",
       "         [0., 0., 0., 0.]]),\n",
       " torch.float32)"
      ]
     },
     "execution_count": 25,
     "metadata": {},
     "output_type": "execute_result"
    }
   ],
   "source": [
    "# Create a tensor of all zeros\n",
    "zeros = torch.zeros(size=(3, 4))\n",
    "zeros, zeros.dtype"
   ]
  },
  {
   "cell_type": "code",
   "execution_count": 26,
   "metadata": {},
   "outputs": [
    {
     "data": {
      "text/plain": [
       "(tensor([[1., 1., 1., 1.],\n",
       "         [1., 1., 1., 1.],\n",
       "         [1., 1., 1., 1.]]),\n",
       " torch.float32)"
      ]
     },
     "execution_count": 26,
     "metadata": {},
     "output_type": "execute_result"
    }
   ],
   "source": [
    "# Create a tensor of all ones\n",
    "ones = torch.ones(size=(3, 4))\n",
    "ones, ones.dtype"
   ]
  },
  {
   "cell_type": "markdown",
   "metadata": {},
   "source": [
    "### Tensor Operations\n",
    "\n",
    "#### Basic Operations\n",
    "\n",
    "You can operate on tensors in the ways you would expect. These operations are often a wonderful dance between:\n",
    "\n",
    "- Addition\n",
    "- Substraction\n",
    "- Multiplication (element-wise)\n",
    "- Division\n",
    "- Matrix multiplication\n"
   ]
  },
  {
   "cell_type": "code",
   "execution_count": 27,
   "metadata": {},
   "outputs": [
    {
     "data": {
      "text/plain": [
       "tensor([11, 12, 13])"
      ]
     },
     "execution_count": 27,
     "metadata": {},
     "output_type": "execute_result"
    }
   ],
   "source": [
    "# Create a tensor of values and add a number to it\n",
    "tensor = torch.tensor([1, 2, 3])\n",
    "tensor + 10"
   ]
  },
  {
   "cell_type": "code",
   "execution_count": 28,
   "metadata": {},
   "outputs": [
    {
     "data": {
      "text/plain": [
       "tensor([10, 20, 30])"
      ]
     },
     "execution_count": 28,
     "metadata": {},
     "output_type": "execute_result"
    }
   ],
   "source": [
    "# Multiply it by 10\n",
    "tensor * 10"
   ]
  },
  {
   "cell_type": "code",
   "execution_count": 33,
   "metadata": {},
   "outputs": [
    {
     "data": {
      "text/plain": [
       "tensor([0.5000, 1.0000, 1.5000])"
      ]
     },
     "execution_count": 33,
     "metadata": {},
     "output_type": "execute_result"
    }
   ],
   "source": [
    "# Divide it by 2\n",
    "tensor / 2"
   ]
  },
  {
   "cell_type": "code",
   "execution_count": 30,
   "metadata": {},
   "outputs": [
    {
     "data": {
      "text/plain": [
       "tensor([10, 20, 30])"
      ]
     },
     "execution_count": 30,
     "metadata": {},
     "output_type": "execute_result"
    }
   ],
   "source": [
    "# Can also use torch functions\n",
    "torch.multiply(tensor, 10)"
   ]
  },
  {
   "cell_type": "code",
   "execution_count": 34,
   "metadata": {},
   "outputs": [
    {
     "data": {
      "text/plain": [
       "tensor([1, 2, 3])"
      ]
     },
     "execution_count": 34,
     "metadata": {},
     "output_type": "execute_result"
    }
   ],
   "source": [
    "# Tensors don't change unless reassigned\n",
    "tensor"
   ]
  },
  {
   "cell_type": "code",
   "execution_count": 32,
   "metadata": {},
   "outputs": [
    {
     "name": "stdout",
     "output_type": "stream",
     "text": [
      "tensor([1, 2, 3]) * tensor([1, 2, 3])\n",
      "Equals: tensor([1, 4, 9])\n"
     ]
    }
   ],
   "source": [
    "# Element-wise multiplication (each element multiplies its equivalent, index 0->0, 1->1, 2->2)\n",
    "print(tensor, \"*\", tensor)\n",
    "print(\"Equals:\", tensor * tensor)"
   ]
  },
  {
   "cell_type": "markdown",
   "metadata": {},
   "source": [
    "#### Matrix multiplication (is all you need)\n",
    "\n",
    "One of the most common operations in machine learning and deep learning algorithms (like neural networks) is [matrix multiplication](https://www.mathsisfun.com/algebra/matrix-multiplying.html). You can understand it as doing a `dot product in linear algebra`.\n",
    "\n",
    "PyTorch implements matrix multiplication functionality in the [`torch.matmul()`](https://pytorch.org/docs/stable/generated/torch.matmul.html) method.\n",
    "\n",
    "The main two rules for matrix multiplication to remember are:\n",
    "\n",
    "1. The **inner dimensions** must match:\n",
    "\n",
    "- `(3, 2) @ (3, 2)` won't work\n",
    "- `(2, 3) @ (3, 2)` will work\n",
    "- `(3, 2) @ (2, 3)` will work\n",
    "\n",
    "2. The resulting matrix has the shape of the **outer dimensions**:\n",
    "\n",
    "- `(2, 3) @ (3, 2)` -> `(2, 2)`\n",
    "- `(3, 2) @ (2, 3)` -> `(3, 3)`\n",
    "\n",
    "> **Note:** \"`@`\" in Python is the symbol for matrix multiplication.\n",
    "\n",
    "> **Resource:** You can see all of the rules for matrix multiplication using `torch.matmul()` [in the PyTorch documentation](https://pytorch.org/docs/stable/generated/torch.matmul.html).\n",
    "\n",
    "Let's create a tensor and perform element-wise multiplication and matrix multiplication on it.\n"
   ]
  },
  {
   "cell_type": "code",
   "execution_count": 59,
   "metadata": {},
   "outputs": [
    {
     "data": {
      "text/plain": [
       "tensor([1, 2, 3])"
      ]
     },
     "execution_count": 59,
     "metadata": {},
     "output_type": "execute_result"
    }
   ],
   "source": [
    "tensor = torch.tensor([1, 2, 3])\n",
    "tensor"
   ]
  },
  {
   "cell_type": "code",
   "execution_count": 60,
   "metadata": {},
   "outputs": [
    {
     "name": "stdout",
     "output_type": "stream",
     "text": [
      "Element-wise multiplication tensor([1, 4, 9])\n",
      "Matrix multiplication: tensor(14)\n"
     ]
    }
   ],
   "source": [
    "# compare the element-wise multiplication with the matrix multiplication\n",
    "print(\"Element-wise multiplication\", tensor * tensor)\n",
    "print(\n",
    "    \"Matrix multiplication:\", torch.matmul(tensor, tensor)\n",
    ")  # here because the tensor is 1D, we do not need to transpose it"
   ]
  },
  {
   "cell_type": "code",
   "execution_count": 62,
   "metadata": {},
   "outputs": [
    {
     "data": {
      "text/plain": [
       "tensor(14)"
      ]
     },
     "execution_count": 62,
     "metadata": {},
     "output_type": "execute_result"
    }
   ],
   "source": [
    "# Can also use the \"@\" symbol for matrix multiplication, though not recommended\n",
    "tensor @ tensor"
   ]
  },
  {
   "cell_type": "markdown",
   "metadata": {},
   "source": [
    "#### One of the most common errors in deep learning (shape errors)\n",
    "\n",
    "Because much of deep learning is multiplying and performing operations on matrices and matrices have a strict rule about what shapes and sizes can be combined, one of the most common errors you'll run into in deep learning is shape mismatches.\n"
   ]
  },
  {
   "cell_type": "code",
   "execution_count": 42,
   "metadata": {},
   "outputs": [
    {
     "name": "stdout",
     "output_type": "stream",
     "text": [
      "mat1 and mat2 shapes cannot be multiplied (3x2 and 3x2)\n"
     ]
    }
   ],
   "source": [
    "# Shapes need to be in the right way\n",
    "tensor_A = torch.tensor([[1, 2], [3, 4], [5, 6]], dtype=torch.float32)\n",
    "\n",
    "tensor_B = torch.tensor([[7, 10], [8, 11], [9, 12]], dtype=torch.float32)\n",
    "\n",
    "try:\n",
    "    torch.matmul(tensor_A, tensor_B)  # (this will error)\n",
    "except Exception as e:\n",
    "    print(e)"
   ]
  },
  {
   "cell_type": "markdown",
   "metadata": {},
   "source": [
    "We can make matrix multiplication work between `tensor_A` and `tensor_B` by making their **inner dimensions match**.\n",
    "\n",
    "One of the ways to do this is with a transpose (switch the dimensions of a given tensor).\n",
    "\n",
    "You can perform transposes in PyTorch using either:\n",
    "\n",
    "- `torch.transpose(input, dim0, dim1)` - where input is the desired tensor to transpose and dim0 and dim1 are the dimensions to be swapped.\n",
    "\n",
    "- `tensor.T` - where tensor is the desired tensor to transpose.\n"
   ]
  },
  {
   "cell_type": "code",
   "execution_count": 66,
   "metadata": {},
   "outputs": [
    {
     "data": {
      "text/plain": [
       "(tensor([[1., 2.],\n",
       "         [3., 4.],\n",
       "         [5., 6.]]),\n",
       " tensor([[ 7.,  8.,  9.],\n",
       "         [10., 11., 12.]]),\n",
       " tensor([[ 7.,  8.,  9.],\n",
       "         [10., 11., 12.]]),\n",
       " tensor([[ 27.,  30.,  33.],\n",
       "         [ 61.,  68.,  75.],\n",
       "         [ 95., 106., 117.]]))"
      ]
     },
     "execution_count": 66,
     "metadata": {},
     "output_type": "execute_result"
    }
   ],
   "source": [
    "# View tensor_A and tensor_B.T and try again\n",
    "tensor_A, tensor_B.T, torch.transpose(tensor_B, 0, 1), torch.matmul(\n",
    "    tensor_A, torch.transpose(tensor_B, 0, 1)\n",
    ")"
   ]
  },
  {
   "cell_type": "markdown",
   "metadata": {},
   "source": [
    "### PyTorch tensors & NumPy\n",
    "\n",
    "Since NumPy is a popular Python numerical computing library, PyTorch has functionality to interact with it nicely.\n",
    "\n",
    "The two main methods you'll want to use for NumPy to PyTorch (and back again) are:\n",
    "\n",
    "- [`torch.from_numpy(ndarray)`](https://pytorch.org/docs/stable/generated/torch.from_numpy.html) - NumPy array -> PyTorch tensor.\n",
    "\n",
    "- [`torch.Tensor.numpy()`](https://pytorch.org/docs/stable/generated/torch.Tensor.numpy.html) - PyTorch tensor -> NumPy array.\n",
    "\n",
    "Let's try them out.\n"
   ]
  },
  {
   "cell_type": "code",
   "execution_count": 69,
   "metadata": {},
   "outputs": [
    {
     "data": {
      "text/plain": [
       "(array([1., 2., 3., 4., 5., 6., 7.]),\n",
       " tensor([1., 2., 3., 4., 5., 6., 7.], dtype=torch.float64))"
      ]
     },
     "execution_count": 69,
     "metadata": {},
     "output_type": "execute_result"
    }
   ],
   "source": [
    "# NumPy array to tensor\n",
    "array = np.arange(1.0, 8.0)\n",
    "tensor = torch.from_numpy(array)\n",
    "array, tensor"
   ]
  },
  {
   "cell_type": "code",
   "execution_count": 70,
   "metadata": {},
   "outputs": [
    {
     "data": {
      "text/plain": [
       "(tensor([1., 1., 1., 1., 1., 1., 1.]),\n",
       " array([1., 1., 1., 1., 1., 1., 1.], dtype=float32))"
      ]
     },
     "execution_count": 70,
     "metadata": {},
     "output_type": "execute_result"
    }
   ],
   "source": [
    "# Tensor to NumPy array\n",
    "tensor = torch.ones(7)  # create a tensor of ones with dtype=float32\n",
    "numpy_tensor = tensor.numpy()  # will be dtype=float32 unless changed\n",
    "tensor, numpy_tensor"
   ]
  },
  {
   "cell_type": "markdown",
   "metadata": {},
   "source": [
    "### Autograd\n",
    "\n",
    "One of the main reasons for using PyTorch in Deep Learning projects is that we can **automatically get gradients/derivatives of functions that we define**. We will mainly use PyTorch for implementing neural networks, and they are just fancy functions. If we use weight matrices in our function that we want to learn, then those are called the **parameters** or simply the **weights**.\n",
    "\n",
    "If our neural network would output a single scalar value, we would talk about taking the **derivative**, but you will see that quite often we will have **multiple** output variables (“values”); in that case we talk about **gradients**. It’s a more general term.\n",
    "\n",
    "Given an input $\\mathcal{x}$, we define our function by **manipulating** that input, usually by matrix-multiplications with weight matrices and additions with so-called bias vectors. As we manipulate our input, we are automatically creating a **computational graph**. This graph shows how to arrive at our output from our input. PyTorch is a **define-by-run** framework; this means that we can just do our manipulations, and PyTorch will keep track of that graph for us. Thus, we create a dynamic computation graph along the way.\n",
    "\n",
    "So, to recap: the only thing we have to do is to compute the **output**, and then we can ask PyTorch to automatically get the **gradients**.\n",
    "\n",
    "**Note: Why do we want gradients**? Consider that we have defined a function, a neural net, that is supposed to compute a certain output $\\mathcal{x}$ for an input vector\n",
    ". We then define an **error measure** that tells us how wrong our network is; how bad it is in predicting output $y$ from input $x$. Based on this error measure, we can use the gradients to update the weights $W$ that were responsible for the output, so that the next time we present input $\\mathcal{x}$ to our network, the output will be closer to what we want.\n",
    "\n",
    "The first thing we have to do is to specify which tensors require gradients. By default, when we create a tensor, it does not require gradients.\n"
   ]
  },
  {
   "cell_type": "code",
   "execution_count": 128,
   "metadata": {},
   "outputs": [
    {
     "name": "stdout",
     "output_type": "stream",
     "text": [
      "False\n",
      "True True\n"
     ]
    }
   ],
   "source": [
    "x = torch.ones((3,))\n",
    "print(x.requires_grad)\n",
    "\n",
    "# you can set requires_grad when creating a tensor\n",
    "y = torch.ones((3,), requires_grad=True)\n",
    "\n",
    "# or later\n",
    "x.requires_grad_(True)\n",
    "\n",
    "print(x.requires_grad, y.requires_grad)"
   ]
  },
  {
   "cell_type": "markdown",
   "metadata": {},
   "source": [
    "In order to get familiar with the concept of a computation graph, we will create one for the following function:\n",
    "\n",
    "$$\n",
    "y = \\frac{1}{l(x)}\\sum_{i}[(x_i + 2)^2 + 3]\n",
    "$$\n",
    "\n",
    "where we use $l(x)$ to denote **the number of elements in $x$**. In other words, we are taking a mean here over the operation within the sum. You could imagine that $x$ are our parameters, and we want to optimize (either maximize or minimize) the output $y$. For this, we want to **obtain the gradients $\\partial{y}/\\partial{x}$**. For our example, we’ll use $[0,1,2]$ as our input.\n"
   ]
  },
  {
   "cell_type": "code",
   "execution_count": 135,
   "metadata": {},
   "outputs": [
    {
     "name": "stdout",
     "output_type": "stream",
     "text": [
      "X tensor([0., 1., 2.], requires_grad=True)\n"
     ]
    }
   ],
   "source": [
    "x = torch.arange(3, dtype=torch.float32, requires_grad=True)\n",
    "print(\"X\", x)"
   ]
  },
  {
   "cell_type": "markdown",
   "metadata": {},
   "source": [
    "Now let’s build the computation graph step by step. You can combine multiple operations in a single line, but we will separate them here to get a better understanding of how each operation is added to the computation graph.\n"
   ]
  },
  {
   "cell_type": "code",
   "execution_count": 136,
   "metadata": {},
   "outputs": [
    {
     "name": "stdout",
     "output_type": "stream",
     "text": [
      "Y tensor(12.6667, grad_fn=<MeanBackward0>)\n"
     ]
    }
   ],
   "source": [
    "a = x + 2\n",
    "b = a**2\n",
    "c = b + 3\n",
    "y = c.mean()\n",
    "print(\"Y\", y)"
   ]
  },
  {
   "cell_type": "markdown",
   "metadata": {},
   "source": [
    "Using the statements above, we have created a computation graph that looks similar to the figure below:\n",
    "\n",
    "<div style=\"text-align:center\">\n",
    "<img src=\"https://uvadlc-notebooks.readthedocs.io/en/latest/_images/pytorch_computation_graph.svg\" alt=\"computation graph\" style=\"width:250pt;\">\n",
    "</div>\n",
    "\n",
    "We calculate $a$ based on the inputs $x$ and the constant $2$, $b$ is $a$ squared, and so on. The visualization is an abstraction of the dependencies between inputs and outputs of the operations we have applied.\n",
    "Each node of the computation graph has automatically defined a function for calculating the gradients with respect to its inputs, `grad_fn`. You can see this when we printed the output tensor $y$. This is why the computation graph is usually visualized in the reverse direction (arrows point from the result to the inputs). We can perform backpropagation on the computation graph by calling the function `backward()` on the last output, which effectively calculates the gradients for each tensor that has the property `requires_grad=True`:\n"
   ]
  },
  {
   "cell_type": "code",
   "execution_count": 141,
   "metadata": {},
   "outputs": [],
   "source": [
    "y.backward()"
   ]
  },
  {
   "cell_type": "markdown",
   "metadata": {},
   "source": [
    "`x.grad` will now contain the gradient $\\partial y/ \\partial \\mathcal{x}$, and this gradient indicates how a change in $\\mathbf{x}$ will affect output $y$ given the current input $\\mathbf{x}=[0,1,2]$:\n"
   ]
  },
  {
   "cell_type": "code",
   "execution_count": 143,
   "metadata": {},
   "outputs": [
    {
     "name": "stdout",
     "output_type": "stream",
     "text": [
      "tensor([1.3333, 2.0000, 2.6667])\n"
     ]
    }
   ],
   "source": [
    "print(x.grad)"
   ]
  },
  {
   "cell_type": "markdown",
   "metadata": {},
   "source": [
    "We can also verify these gradients by hand. We will calculate the gradients using the chain rule, in the same way as PyTorch did it:\n",
    "\n",
    "$$\\frac{\\partial y}{\\partial x_i} = \\frac{\\partial y}{\\partial c_i}\\cdot\\frac{\\partial c_i}{\\partial b_i}\\cdot\\frac{\\partial b_i}{\\partial a_i}\\cdot\\frac{\\partial a_i}{\\partial x_i}$$\n",
    "\n",
    "Note that we have simplified this equation to index notation, and by using the fact that all operation besides the mean do not combine the elements in the tensor. The partial derivatives are:\n",
    "\n",
    "$$\n",
    "\\frac{\\partial a_i}{\\partial x_i} = 1,\\hspace{1cm}\n",
    "\\frac{\\partial b_i}{\\partial a_i} = 2\\cdot a_i\\hspace{1cm}\n",
    "\\frac{\\partial c_i}{\\partial b_i} = 1\\hspace{1cm}\n",
    "\\frac{\\partial y}{\\partial c_i} = \\frac{1}{3}\n",
    "$$\n",
    "\n",
    "Thus,\n",
    "\n",
    "$$\n",
    "\\frac{\\partial y}{\\partial x_i} = \\frac{1}{3} \\cdot 1 \\cdot 2a_i \\cdot 1 = \\frac{2a_i}{3} = \\frac{2x_i + 4}{3}\n",
    "$$\n",
    "\n",
    "Hence, with the input being $\\mathbf{x}=[0,1,2]$, our gradients are $\\partial y/\\partial \\mathbf{x}=[4/3,2,8/3]$. The previous code cell should have printed the same result.\n",
    "\n",
    "However, tracking the operations through tensors consumes memory. Hence, unless we require the gradient of some final output/cost function, we should avoid tracking operations. These parameters that don't compute gradients are also called frozen parameters.\n",
    "\n",
    "This is helpful if we know that we don't need the gradients of some parameters in advance, for example when performing fine-tuning on the output layer or when simply using the model for prediction.\n",
    "\n",
    "- To stop a tensor from tracking history, you can call `.detach()` to detach it from the computation history, and to prevent future computation from being\n",
    "  tracked.\n",
    "\n",
    "- You can also stop autograd from tracking history on Tensors by wrapping the code block in `with torch.no_grad():`.\n"
   ]
  },
  {
   "cell_type": "code",
   "execution_count": 146,
   "metadata": {},
   "outputs": [
    {
     "name": "stdout",
     "output_type": "stream",
     "text": [
      "True\n",
      "False\n"
     ]
    }
   ],
   "source": [
    "print(x.requires_grad)\n",
    "# use detach to get a tensor without grad\n",
    "x_no_grad = x.detach()\n",
    "print(x_no_grad.requires_grad)"
   ]
  },
  {
   "cell_type": "code",
   "execution_count": 147,
   "metadata": {},
   "outputs": [
    {
     "name": "stdout",
     "output_type": "stream",
     "text": [
      "True\n",
      "True\n",
      "False\n"
     ]
    }
   ],
   "source": [
    "print(x.requires_grad)\n",
    "print((x**2).requires_grad)\n",
    "\n",
    "with torch.no_grad():\n",
    "    print((x**2).requires_grad)"
   ]
  },
  {
   "cell_type": "markdown",
   "metadata": {},
   "source": [
    "### GPU support\n",
    "\n",
    "**By default, all tensors you create are stored on the CPU**. We can push a tensor to the GPU by using the function `.to(...)`, or `.cuda()`. However, it is often a good practice to define a `device` object in your code which points to the GPU if you have one, and otherwise to the CPU. Then, you can write your code with respect to this device object, and it allows you to run the same code on both a CPU-only system, and one with a GPU. Let's try it below. We can specify the device as follows:\n"
   ]
  },
  {
   "cell_type": "code",
   "execution_count": 3,
   "metadata": {},
   "outputs": [
    {
     "name": "stdout",
     "output_type": "stream",
     "text": [
      "cuda\n"
     ]
    }
   ],
   "source": [
    "device = \"cuda\" if torch.cuda.is_available() else \"cpu\"\n",
    "device = torch.device(device)\n",
    "print(device)"
   ]
  },
  {
   "cell_type": "code",
   "execution_count": 149,
   "metadata": {},
   "outputs": [
    {
     "name": "stdout",
     "output_type": "stream",
     "text": [
      "X tensor([[0., 0., 0.],\n",
      "        [0., 0., 0.]], device='cuda:0')\n"
     ]
    }
   ],
   "source": [
    "x = torch.zeros(2, 3)\n",
    "x = x.to(device)\n",
    "print(\"X\", x)"
   ]
  },
  {
   "cell_type": "markdown",
   "metadata": {},
   "source": [
    "In case you have a GPU, you should now see the attribute `device='cuda:0'` being printed next to your tensor. The zero next to cuda indicates that this is the zero-th GPU device on your computer. PyTorch also supports multi-GPU systems, but this you will only need once you have very big networks to train (if interested, see the [PyTorch documentation](https://pytorch.org/docs/stable/distributed.html#distributed-basics)). We can also compare the runtime of a large matrix multiplication on the CPU with a operation on the GPU:\n"
   ]
  },
  {
   "cell_type": "code",
   "execution_count": 150,
   "metadata": {},
   "outputs": [
    {
     "name": "stdout",
     "output_type": "stream",
     "text": [
      "CPU time: 0.48381s\n",
      "GPU time: 0.03314s\n"
     ]
    }
   ],
   "source": [
    "x = torch.randn(5000, 5000)\n",
    "\n",
    "# CPU version\n",
    "start_time = time.time()\n",
    "_ = torch.matmul(x, x)\n",
    "end_time = time.time()\n",
    "print(f\"CPU time: {(end_time - start_time):6.5f}s\")\n",
    "\n",
    "# GPU version\n",
    "x = x.to(device)\n",
    "_ = torch.matmul(x, x)  # First operation to 'burn in' GPU\n",
    "# CUDA is asynchronous, so we need to use different timing functions\n",
    "start = torch.cuda.Event(enable_timing=True)\n",
    "end = torch.cuda.Event(enable_timing=True)\n",
    "start.record()\n",
    "_ = torch.matmul(x, x)\n",
    "end.record()\n",
    "torch.cuda.synchronize()  # Waits for everything to finish running on the GPU\n",
    "# Milliseconds to seconds\n",
    "print(f\"GPU time: {0.001 * start.elapsed_time(end):6.5f}s\")"
   ]
  },
  {
   "cell_type": "markdown",
   "metadata": {},
   "source": [
    "## Application: Continuous XOR\n",
    "\n",
    "If we want to build a neural network in PyTorch, we could specify all our parameters (weight matrices, bias vectors) using Tensors (with requires_grad=True), ask PyTorch to calculate the gradients and then adjust the parameters. But things can quickly get cumbersome if we have **a lot of parameters**. In PyTorch, there is a package called `torch.nn` that makes building neural networks more convenient.\n",
    "\n",
    "The **continuous XOR problem** is a simple problem that can be used to test the capabilities of a neural network. The problem is defined as follows:\n",
    "\n",
    "Given two binary inputs $x_1$ and $x_2$, the label to predict is $1$ if either $x_1$ or $x_2$ is $1$ while the other is $0$, or the label is $0$ in all other cases. The example became famous by the fact that a single neuron, i.e. a linear classifier, cannot learn this simple function.\n",
    "Hence, we will learn how to build a small neural network that can learn this function.\n",
    "To make it a little bit more interesting, we move the XOR into continuous space and introduce some gaussian noise on the binary inputs. Our desired separation of an XOR dataset could look as follows:\n",
    "\n",
    "<center style=\"width: 100%\"><img src=\"https://raw.githubusercontent.com/phlippe/uvadlc_notebooks/master/docs/tutorial_notebooks/tutorial2/continuous_xor.svg\" width=\"350px\"></center>\n"
   ]
  },
  {
   "cell_type": "markdown",
   "metadata": {},
   "source": [
    "### Dataset Creation\n",
    "\n",
    "PyTorch provides a few functionalities to load the training and test data efficiently, summarized in the package `torch.utils.data`.\n"
   ]
  },
  {
   "cell_type": "code",
   "execution_count": 29,
   "metadata": {},
   "outputs": [],
   "source": [
    "import torch.utils.data as data"
   ]
  },
  {
   "cell_type": "markdown",
   "metadata": {},
   "source": [
    "#### The dataset class\n",
    "\n",
    "The dataset class summarizes the basic functionality of a dataset in a natural way. To define a dataset in PyTorch, we simply specify two functions: `__getitem__`, and `__len__`. The get-item function has to return the $i$-th data point in the dataset, while the len function returns the size of the dataset. For the XOR dataset, we can define the dataset class as follows:\n"
   ]
  },
  {
   "cell_type": "code",
   "execution_count": 5,
   "metadata": {},
   "outputs": [],
   "source": [
    "class XORDataset(data.Dataset):\n",
    "\n",
    "    def __init__(self, size, std=0.1):\n",
    "        \"\"\"\n",
    "        Inputs:\n",
    "            size - Number of data points we want to generate\n",
    "            std - Standard deviation of the noise (see generate_continuous_xor function)\n",
    "        \"\"\"\n",
    "        super().__init__()\n",
    "        self.size = size\n",
    "        self.std = std\n",
    "        self.generate_continuous_xor()\n",
    "\n",
    "    def generate_continuous_xor(self):\n",
    "        # Each data point in the XOR dataset has two variables, x and y, that can be either 0 or 1\n",
    "        # The label is their XOR combination, i.e. 1 if only x or only y is 1 while the other is 0.\n",
    "        # If x = y, the label is 0.\n",
    "        data = torch.randint(low=0, high=2, size=(self.size, 2), dtype=torch.float32)\n",
    "        label = (data.sum(dim=1) == 1).to(torch.long)\n",
    "        # To make it slightly more challenging, we add a bit of gaussian noise to the data points.\n",
    "        data += self.std * torch.randn(data.shape)\n",
    "\n",
    "        self.data = data\n",
    "        self.label = label\n",
    "\n",
    "    def __len__(self):\n",
    "        # Number of data point we have. Alternatively self.data.shape[0], or self.label.shape[0]\n",
    "        return self.size\n",
    "\n",
    "    def __getitem__(self, idx):\n",
    "        # Return the idx-th data point of the dataset\n",
    "        # If we have multiple things to return (data point and label), we can return them as tuple\n",
    "        data_point = self.data[idx]\n",
    "        data_label = self.label[idx]\n",
    "        return data_point, data_label"
   ]
  },
  {
   "cell_type": "code",
   "execution_count": 94,
   "metadata": {},
   "outputs": [
    {
     "name": "stdout",
     "output_type": "stream",
     "text": [
      "Size of dataset: 20000\n",
      "Data point 0: (tensor([ 1.0733, -0.0168]), tensor(1))\n"
     ]
    }
   ],
   "source": [
    "dataset = XORDataset(size=20000)\n",
    "print(\"Size of dataset:\", len(dataset))\n",
    "print(\"Data point 0:\", dataset[0])"
   ]
  },
  {
   "cell_type": "markdown",
   "metadata": {},
   "source": [
    "Let's visualize the dataset to see what we are working with.\n"
   ]
  },
  {
   "cell_type": "code",
   "execution_count": 7,
   "metadata": {},
   "outputs": [
    {
     "data": {
      "text/plain": [
       "Text(0.5, 1.0, 'XOR Dataset')"
      ]
     },
     "execution_count": 7,
     "metadata": {},
     "output_type": "execute_result"
    },
    {
     "data": {
      "image/png": "[encoded data removed]",
      "text/plain": [
       "<Figure size 600x600 with 1 Axes>"
      ]
     },
     "metadata": {},
     "output_type": "display_data"
    }
   ],
   "source": [
    "# visualize the dataset\n",
    "data = dataset.data\n",
    "label = dataset.label\n",
    "\n",
    "plt.figure(figsize=(6, 6))\n",
    "\n",
    "plt.scatter(data[label == 0, 0], data[label == 0, 1], label=\"Class 0\")\n",
    "plt.scatter(data[label == 1, 0], data[label == 1, 1], label=\"Class 1\")\n",
    "\n",
    "plt.xlabel(\"$X_1$\")\n",
    "plt.ylabel(\"$X_2$\")\n",
    "\n",
    "plt.legend()\n",
    "plt.title(\"XOR Dataset\")"
   ]
  },
  {
   "cell_type": "markdown",
   "metadata": {},
   "source": [
    "#### Split the dataset\n"
   ]
  },
  {
   "cell_type": "code",
   "execution_count": 95,
   "metadata": {},
   "outputs": [
    {
     "data": {
      "text/plain": [
       "(16000, 4000)"
      ]
     },
     "execution_count": 95,
     "metadata": {},
     "output_type": "execute_result"
    }
   ],
   "source": [
    "train_data, test_data, train_label, test_label = train_test_split(\n",
    "    dataset.data, dataset.label, test_size=0.2, random_state=42\n",
    ")\n",
    "\n",
    "len(train_data), len(test_data)"
   ]
  },
  {
   "cell_type": "markdown",
   "metadata": {},
   "source": [
    "### Neural Network Model\n",
    "\n",
    "The package `torch.nn` defines a series of useful classes like linear networks layers, activation functions, loss functions etc. A full list can be found [here](https://pytorch.org/docs/stable/nn.html). In case you need a certain network layer, check the documentation of the package first before writing the layer yourself as the package likely contains the code for it already. Additionally to `torch.nn`, there is also `torch.nn.functional`. It contains functions that are used in network layers. This is in contrast to `torch.nn` which defines them as `nn.Modules` (more on it below), and `torch.nn` actually uses a lot of functionalities from `torch.nn.functional`. Hence, the functional package is useful in many situations, and so we import it as well here. We import it below:\n"
   ]
  },
  {
   "cell_type": "code",
   "execution_count": 30,
   "metadata": {},
   "outputs": [],
   "source": [
    "import torch.nn as nn\n",
    "import torch.nn.functional as F"
   ]
  },
  {
   "cell_type": "markdown",
   "metadata": {},
   "source": [
    "In PyTorch, **a neural network is built up out of modules**. Modules can contain other modules, and a neural network is considered to be a module itself as well. The basic template of a module is as follows:\n"
   ]
  },
  {
   "cell_type": "code",
   "execution_count": 10,
   "metadata": {},
   "outputs": [],
   "source": [
    "class MyModule(nn.Module):\n",
    "\n",
    "    def __init__(self):\n",
    "        super().__init__()\n",
    "        # Some init for my module\n",
    "\n",
    "    def forward(self, x):\n",
    "        # Function for performing the calculation of the module.\n",
    "        pass"
   ]
  },
  {
   "cell_type": "markdown",
   "metadata": {},
   "source": [
    "The forward function is where the computation of the module is taken place, and is executed when you call the module (`nn = MyModule(); nn(x)`). In the init function, we usually create the parameters of the module, using `nn.Parameter`, or defining other modules that are used in the forward function. The backward calculation is done automatically, but could be overwritten as well if wanted.\n",
    "\n",
    "#### Network Structure\n",
    "\n",
    "We can now make use of the pre-defined modules in the `torch.nn` package, and define our own small neural network. We will use a minimal network with `a input layer`, `one hidden layer with tanh as activation function`, and `a output layer`. In other words, our networks should look something like this:\n",
    "\n",
    "<center width=\"100%\"><img src=\"https://github.com/phlippe/uvadlc_notebooks/blob/master/docs/tutorial_notebooks/tutorial2/small_neural_network.svg?raw=1\" width=\"500px\"></center>\n",
    "\n",
    "The input neurons are shown in blue, which represent the coordinates $x_1$ and $x_2$ of a data point. The hidden neurons including a tanh activation are shown in white, and the output neuron in red.\n",
    "In PyTorch, we can define this as follows:\n"
   ]
  },
  {
   "cell_type": "code",
   "execution_count": 11,
   "metadata": {},
   "outputs": [],
   "source": [
    "class SimpleNeuralNetwork(nn.Module):\n",
    "\n",
    "    def __init__(self, num_inputs, num_hidden, num_outputs):\n",
    "        super().__init__()\n",
    "        # Initialize the modules we need to build the network\n",
    "        self.linear1 = nn.Linear(\n",
    "            num_inputs, num_hidden\n",
    "        )  # Layer 1, from input to hidden, so the first argument is the number of input features and the second argument is the number of hidden units\n",
    "        self.act_fn = (\n",
    "            nn.Tanh()\n",
    "        )  # Activation function, you can aso change it into nn.ReLU(), nn.Sigmoid(), etc.\n",
    "        self.linear2 = nn.Linear(\n",
    "            num_hidden, num_outputs\n",
    "        )  # Layer 2, from hidden to output.\n",
    "        self.out_act = nn.Sigmoid()\n",
    "\n",
    "    def forward(self, x):\n",
    "        # Perform the calculation of the model to determine the prediction\n",
    "        x = self.linear1(x)  # Linear transformation of the input\n",
    "        x = self.act_fn(\n",
    "            x\n",
    "        )  # Pass it through the activation function, aka non-linear transformation\n",
    "        x = self.linear2(x)  # Second linear transformation to the output\n",
    "        x = self.out_act(x)\n",
    "        return x"
   ]
  },
  {
   "cell_type": "code",
   "execution_count": 12,
   "metadata": {},
   "outputs": [
    {
     "name": "stdout",
     "output_type": "stream",
     "text": [
      "SimpleNeuralNetwork(\n",
      "  (linear1): Linear(in_features=2, out_features=4, bias=True)\n",
      "  (act_fn): Tanh()\n",
      "  (linear2): Linear(in_features=4, out_features=1, bias=True)\n",
      "  (out_act): Sigmoid()\n",
      ")\n"
     ]
    }
   ],
   "source": [
    "model = SimpleNeuralNetwork(num_inputs=2, num_hidden=4, num_outputs=1)\n",
    "# Print the model architecture\n",
    "print(model)"
   ]
  },
  {
   "cell_type": "markdown",
   "metadata": {},
   "source": [
    "Printing the model lists **all submodules it contains**. The parameters of a module can be obtained by using its `parameters()` functions, or `named_parameters()` to get a name to each parameter object. For our small neural network, we have the following parameters:\n"
   ]
  },
  {
   "cell_type": "code",
   "execution_count": 13,
   "metadata": {},
   "outputs": [
    {
     "name": "stdout",
     "output_type": "stream",
     "text": [
      "Parameter linear1.weight, shape torch.Size([4, 2])\n",
      "Parameter linear1.bias, shape torch.Size([4])\n",
      "Parameter linear2.weight, shape torch.Size([1, 4])\n",
      "Parameter linear2.bias, shape torch.Size([1])\n"
     ]
    }
   ],
   "source": [
    "for name, param in model.named_parameters():\n",
    "    print(f\"Parameter {name}, shape {param.shape}\")"
   ]
  },
  {
   "cell_type": "markdown",
   "metadata": {},
   "source": [
    "#### Model Training\n",
    "\n",
    "Typically, to train a model, we need to define\n",
    "\n",
    "- a loss function\n",
    "- an optimizer\n",
    "- a training loop.\n",
    "\n",
    "The loss function measures how well the model is performing, and the optimizer updates the model parameters to minimize the loss. The training loop iterates over the dataset, calculates the loss, computes the gradients, and updates the model parameters.\n",
    "\n",
    "##### Loss Function\n",
    "\n",
    "The loss function is a measure of how well the model is performing. For classification tasks, the cross-entropy loss is commonly used. For regression tasks, the mean squared error loss is commonly used. PyTorch provides a variety of loss functions in the `torch.nn` package. We can define the loss function using `Binary Cross Entropy (BCE)` for our continuous XOR problem as follows:\n",
    "\n",
    "$$\n",
    "\\text{BCELoss} = -\\frac{1}{N}\\sum_{i=1}^{N}y_i\\log(\\hat{y}_i) + (1-y_i)\\log(1-\\hat{y}_i)\n",
    "$$\n",
    "\n",
    "where $\\text{BCELoss}$ is the binary cross-entropy loss, and $y_i$ and $\\hat{y}_i$ are the true and predicted labels of the $i$-th data point, respectively.\n"
   ]
  },
  {
   "cell_type": "code",
   "execution_count": 14,
   "metadata": {},
   "outputs": [],
   "source": [
    "loss_func = nn.BCELoss()  # Binary Cross-Entropy loss, for binary classification"
   ]
  },
  {
   "cell_type": "markdown",
   "metadata": {},
   "source": [
    "##### Optimizer\n",
    "\n",
    "The optimizer updates the model parameters to minimize the loss. The optimizer requires the model parameters and a learning rate. PyTorch provides a variety of optimizers in the `torch.optim` package. And they can vary a lot in their performance. In this case, we will use `Stochastic Gradient Descent (SGD)` as our optimizer. Stochastic Gradient Descent updates parameters by **multiplying the gradients with a small constant**, called learning rate, and subtracting those from the parameters (hence minimizing the loss). Therefore, we slowly move towards the direction of minimizing the loss. A good default value of the learning rate for a small network as ours is 0.1.\n"
   ]
  },
  {
   "cell_type": "code",
   "execution_count": 41,
   "metadata": {},
   "outputs": [],
   "source": [
    "optimizer = torch.optim.SGD(\n",
    "    model.parameters(), lr=0.01\n",
    ")  # Stochastic Gradient Descent optimizer"
   ]
  },
  {
   "cell_type": "markdown",
   "metadata": {},
   "source": [
    "The optimizer provides two useful functions: `optimizer.step()`, and `optimizer.zero_grad()`. The step function **updates the parameters based on the gradients** as explained above. The function **optimizer.zero_grad()** sets the **gradients of all parameters to zero**. While this function seems less relevant at first, it is a crucial pre-step before performing backpropagation. If we call the backward function on the loss while the parameter gradients are non-zero from the previous batch, the new gradients would actually be added to the previous ones instead of overwriting them. This is done because a parameter might occur multiple times in a computation graph, and we need to sum the gradients in this case instead of replacing them. Hence, remember to call optimizer.zero_grad() before calculating the gradients of a batch.\n",
    "\n",
    "##### Training Loop\n"
   ]
  },
  {
   "cell_type": "code",
   "execution_count": 42,
   "metadata": {},
   "outputs": [
    {
     "data": {
      "text/plain": [
       "SimpleNeuralNetwork(\n",
       "  (linear1): Linear(in_features=2, out_features=4, bias=True)\n",
       "  (act_fn): Tanh()\n",
       "  (linear2): Linear(in_features=4, out_features=1, bias=True)\n",
       "  (out_act): Sigmoid()\n",
       ")"
      ]
     },
     "execution_count": 42,
     "metadata": {},
     "output_type": "execute_result"
    }
   ],
   "source": [
    "# Push our simple neurl network model to device. Has to be only done once\n",
    "model.to(device)"
   ]
  },
  {
   "cell_type": "code",
   "execution_count": 100,
   "metadata": {},
   "outputs": [],
   "source": [
    "def train_model(model, optimizer, train_data, train_label, loss_func, num_epochs=100):\n",
    "    # Set model to train mode\n",
    "    model.train()\n",
    "\n",
    "    # Training loop, here epoch is the number of times we go over the full training data\n",
    "    # In this case, we calculate the gradients on the full training data, update the model parameters, and do this num_epochs times.\n",
    "    # Thus in total, the model has updated the gradients num_epochs times.\n",
    "    for epoch in tqdm(range(num_epochs)):\n",
    "\n",
    "        ## Step 1: Move input data to device (only strictly necessary if we use GPU)\n",
    "        train_data = train_data.to(device)\n",
    "        train_label = train_label.to(device)\n",
    "\n",
    "        ## Step 2: Run the model on the input data\n",
    "        preds = model(\n",
    "            train_data\n",
    "        )  # this will call model.forward(data_inputs), aka prediction\n",
    "        preds = preds.squeeze()\n",
    "\n",
    "        ## Step 3: Calculate the loss\n",
    "        loss = loss_func(\n",
    "            preds, train_label.float()\n",
    "        )  # this will call loss_func.forward(preds, data_labels)\n",
    "\n",
    "        ## Step 4: Perform backpropagation\n",
    "        # Before calculating the gradients, we need to ensure that they are all zeroed\n",
    "        # The gradients would not be overwritten, but actually added to the existing ones.\n",
    "        optimizer.zero_grad()\n",
    "        loss.backward()\n",
    "\n",
    "        ## Step 5: Update the parameters\n",
    "        optimizer.step()\n",
    "\n",
    "        if epoch % 10 == 0:\n",
    "            print(f\"Epoch {epoch}, Loss: {loss.item()}\")"
   ]
  },
  {
   "cell_type": "code",
   "execution_count": 101,
   "metadata": {},
   "outputs": [
    {
     "name": "stderr",
     "output_type": "stream",
     "text": [
      "100%|██████████| 100/100 [00:00<00:00, 604.98it/s]"
     ]
    },
    {
     "name": "stdout",
     "output_type": "stream",
     "text": [
      "Epoch 0, Loss: 0.0027357132639735937\n",
      "Epoch 10, Loss: 0.0027353730984032154\n",
      "Epoch 20, Loss: 0.002735033631324768\n",
      "Epoch 30, Loss: 0.002734694629907608\n",
      "Epoch 40, Loss: 0.0027343560941517353\n",
      "Epoch 50, Loss: 0.0027340175583958626\n",
      "Epoch 60, Loss: 0.002733679488301277\n",
      "Epoch 70, Loss: 0.002733341883867979\n",
      "Epoch 80, Loss: 0.002733005443587899\n",
      "Epoch 90, Loss: 0.0027326694689691067\n"
     ]
    },
    {
     "name": "stderr",
     "output_type": "stream",
     "text": [
      "\n"
     ]
    }
   ],
   "source": [
    "train_model(model, optimizer, train_data, train_label, loss_func)"
   ]
  },
  {
   "cell_type": "markdown",
   "metadata": {},
   "source": [
    "#### Model Evaluation\n"
   ]
  },
  {
   "cell_type": "code",
   "execution_count": 102,
   "metadata": {},
   "outputs": [
    {
     "name": "stdout",
     "output_type": "stream",
     "text": [
      "Accuracy of the model: 100.00%\n"
     ]
    }
   ],
   "source": [
    "def eval_model(model, test_data, test_label):\n",
    "    model.eval()  # Set model to eval mode\n",
    "    true_preds, num_preds = 0, 0\n",
    "\n",
    "    with torch.no_grad():  # Deactivate gradients for the following code\n",
    "        # Determine prediction of model on dev set\n",
    "        test_data, test_label = test_data.to(device), test_label.to(device)\n",
    "        preds = model(test_data)\n",
    "        preds = preds.squeeze()\n",
    "        pred_labels = (preds >= 0.5).long()  # Binarize predictions to 0 and 1\n",
    "\n",
    "        # Keep records of predictions for the accuracy metric (true_preds=TP+TN, num_preds=TP+TN+FP+FN)\n",
    "        true_preds += (pred_labels == test_label).sum()\n",
    "        num_preds += test_label.shape[0]\n",
    "\n",
    "    acc = true_preds / num_preds\n",
    "    print(f\"Accuracy of the model: {100.0*acc:4.2f}%\")\n",
    "\n",
    "\n",
    "eval_model(model, test_data, test_label)"
   ]
  },
  {
   "cell_type": "code",
   "execution_count": 103,
   "metadata": {},
   "outputs": [
    {
     "data": {
      "image/png": "[encoded data removed]",
      "text/plain": [
       "<Figure size 600x600 with 1 Axes>"
      ]
     },
     "metadata": {},
     "output_type": "display_data"
    }
   ],
   "source": [
    "@torch.no_grad()  # Decorator, same effect as \"with torch.no_grad(): ...\" over the whole function.\n",
    "def visualize_classification(model, data, label):\n",
    "    if isinstance(data, torch.Tensor):\n",
    "        data = data.cpu().numpy()\n",
    "    if isinstance(label, torch.Tensor):\n",
    "        label = label.cpu().numpy()\n",
    "    data_0 = data[label == 0]\n",
    "    data_1 = data[label == 1]\n",
    "\n",
    "    fig = plt.figure(figsize=(4, 4), dpi=150)\n",
    "    plt.scatter(data_0[:, 0], data_0[:, 1], edgecolor=\"#333\", label=\"Class 0\")\n",
    "    plt.scatter(data_1[:, 0], data_1[:, 1], edgecolor=\"#333\", label=\"Class 1\")\n",
    "    plt.title(\"Dataset samples\")\n",
    "    plt.ylabel(r\"$x_2$\")\n",
    "    plt.xlabel(r\"$x_1$\")\n",
    "    plt.legend()\n",
    "\n",
    "    # Let's make use of a lot of operations we have learned above\n",
    "    model.to(device)\n",
    "    c0 = torch.Tensor(to_rgba(\"C0\")).to(device)\n",
    "    c1 = torch.Tensor(to_rgba(\"C1\")).to(device)\n",
    "    x1 = torch.arange(-0.5, 1.5, step=0.01, device=device)\n",
    "    x2 = torch.arange(-0.5, 1.5, step=0.01, device=device)\n",
    "    xx1, xx2 = torch.meshgrid(x1, x2, indexing=\"ij\")  # Meshgrid function as in numpy\n",
    "    model_inputs = torch.stack([xx1, xx2], dim=-1)\n",
    "    preds = model(model_inputs)\n",
    "    preds = torch.sigmoid(preds)\n",
    "    output_image = (1 - preds) * c0[None, None] + preds * c1[\n",
    "        None, None\n",
    "    ]  # Specifying \"None\" in a dimension creates a new one\n",
    "    output_image = (\n",
    "        output_image.cpu().numpy()\n",
    "    )  # Convert to numpy array. This only works for tensors on CPU, hence first push to CPU\n",
    "    plt.imshow(output_image, origin=\"lower\", extent=(-0.5, 1.5, -0.5, 1.5))\n",
    "    plt.grid(False)\n",
    "    return fig\n",
    "\n",
    "\n",
    "_ = visualize_classification(model, dataset.data, dataset.label)\n",
    "plt.show()"
   ]
  },
  {
   "cell_type": "markdown",
   "metadata": {},
   "source": [
    "#### Mini-Batch Training\n",
    "\n",
    "Before we use the epoch loop to train the model, we will introduce the concept of batch training. With epoch training, gradients are calculated and averaged across all samples in the dataset for a single update. This is also called batch training with a batch size equal to the size of the dataset. However, this is computationally expensive and not necessary. It's not efficient or even feasible for large datasets.\n",
    "\n",
    "Therefore, instead of updating the model parameters with the entire dataset, we update the parameters after a **mini-batch of data points**.\n",
    "\n",
    "The batch size refers to the number of data points used in each update step. A larger batch size can speed up training, but it can also require more memory. In PyTorch, we can define a data loader to load the data in batches. The data loader provides an iterator that returns a batch of data points and labels in each iteration. We can define a data loader as follows:\n"
   ]
  },
  {
   "cell_type": "code",
   "execution_count": 104,
   "metadata": {},
   "outputs": [
    {
     "data": {
      "text/plain": [
       "<torch.utils.data.dataloader.DataLoader at 0x1ce89f40fd0>"
      ]
     },
     "execution_count": 104,
     "metadata": {},
     "output_type": "execute_result"
    }
   ],
   "source": [
    "from torch.utils.data import DataLoader\n",
    "\n",
    "train_loader = DataLoader(dataset=dataset, batch_size=32, shuffle=True)\n",
    "train_loader"
   ]
  },
  {
   "cell_type": "code",
   "execution_count": 107,
   "metadata": {},
   "outputs": [
    {
     "name": "stdout",
     "output_type": "stream",
     "text": [
      "Number of batches: 625\n"
     ]
    }
   ],
   "source": [
    "print(\"Number of batches:\", len(train_loader))"
   ]
  },
  {
   "cell_type": "code",
   "execution_count": 108,
   "metadata": {},
   "outputs": [],
   "source": [
    "# batch training loop\n",
    "def train_model_batch(model, optimizer, train_loader, loss_func, num_epochs=100):\n",
    "    model.train()\n",
    "    for epoch in range(num_epochs):\n",
    "        epoch_loss = 0.0\n",
    "        # here the gradient will be updated after each batch\n",
    "        for batch_data, batch_labels in train_loader:\n",
    "\n",
    "            batch_data, batch_labels = batch_data.to(device), batch_labels.to(device)\n",
    "\n",
    "            preds = model(batch_data)\n",
    "            preds = preds.squeeze()\n",
    "            loss = loss_func(preds, batch_labels.float())\n",
    "\n",
    "            optimizer.zero_grad()\n",
    "            loss.backward()\n",
    "            optimizer.step()\n",
    "\n",
    "            # Multiply by batch size to scale loss\n",
    "            epoch_loss += loss.item() * batch_data.size(0)\n",
    "\n",
    "        # Average loss for epoch\n",
    "        epoch_loss = epoch_loss / len(train_loader.dataset)\n",
    "\n",
    "        if epoch % 10 == 0:\n",
    "            print(f\"Epoch {epoch}, Loss: {epoch_loss}\")"
   ]
  },
  {
   "cell_type": "code",
   "execution_count": 109,
   "metadata": {},
   "outputs": [
    {
     "name": "stdout",
     "output_type": "stream",
     "text": [
      "Epoch 0, Loss: 0.0026812074011191727\n",
      "Epoch 10, Loss: 0.0025376368634402752\n",
      "Epoch 20, Loss: 0.002420054851472378\n",
      "Epoch 30, Loss: 0.002316014891862869\n",
      "Epoch 40, Loss: 0.0022223551370203496\n",
      "Epoch 50, Loss: 0.002136982131563127\n",
      "Epoch 60, Loss: 0.00205874530877918\n",
      "Epoch 70, Loss: 0.001986599971074611\n",
      "Epoch 80, Loss: 0.0019198035505600273\n",
      "Epoch 90, Loss: 0.0018578915008343757\n"
     ]
    }
   ],
   "source": [
    "# call the batch training function\n",
    "train_model_batch(model, optimizer, train_loader, loss_func)"
   ]
  },
  {
   "cell_type": "code",
   "execution_count": 110,
   "metadata": {},
   "outputs": [
    {
     "name": "stdout",
     "output_type": "stream",
     "text": [
      "Accuracy of the model: 100.00%\n"
     ]
    }
   ],
   "source": [
    "# evaluate the model\n",
    "def eval_model(model, test_data, test_label):\n",
    "    model.eval()\n",
    "    true_preds, num_preds = 0, 0\n",
    "\n",
    "    # Deactivate gradients for the following code, as we do not need them for inference\n",
    "    with torch.no_grad():\n",
    "        test_data, test_label = test_data.to(device), test_label.to(device)\n",
    "        preds = model(test_data)\n",
    "        preds = preds.squeeze()\n",
    "        pred_labels = (preds >= 0.5).long()\n",
    "\n",
    "        true_preds += (pred_labels == test_label).sum()\n",
    "        num_preds += test_label.shape[0]\n",
    "\n",
    "    acc = true_preds / num_preds\n",
    "    print(f\"Accuracy of the model: {100.0*acc:4.2f}%\")\n",
    "\n",
    "\n",
    "eval_model(model, test_data, test_label)"
   ]
  },
  {
   "cell_type": "markdown",
   "metadata": {},
   "source": [
    "## Optional Application: RNN for Image Classification\n",
    "\n",
    "<div style=\"text-align:center\">\n",
    "<img src=\"https://docs.google.com/drawings/d/e/2PACX-1vSiMstqkE9hTYmhPD3KMeFRNNKYA2NnrCayahBOEL1TalRqaWF7rH8a7O-nP9c-mKOdZRsWtmAGZfNN/pub?w=969&h=368\" style=\"width:700pt\">\n",
    "</div>\n",
    "\n",
    "Let's try to build an image classifier using the MNIST dataset. The MNIST dataset consists of images that contain **hand-written numbers from 1–10**. Essentially, we want to build **a classifier to predict the numbers displayed by a set of images**.\n"
   ]
  },
  {
   "cell_type": "markdown",
   "metadata": {},
   "source": [
    "### Dataset\n",
    "\n",
    "Before building the RNN-based computation graph, let's import the MNIST dataset, split it into test and train portions, do a few transformations, and further explore it. You will need the following PyTorch libraries and lines of code to download and import the MNIST dataset to Google Colab.\n"
   ]
  },
  {
   "cell_type": "code",
   "execution_count": 11,
   "metadata": {},
   "outputs": [],
   "source": [
    "import torch.nn as nn\n",
    "import torch.nn.functional as F\n",
    "\n",
    "import torchvision\n",
    "import torchvision.transforms as transforms\n",
    "\n",
    "# Define a transform to normalize the data\n",
    "transform = transforms.Compose(\n",
    "    [transforms.ToTensor()]\n",
    ")  # this is to convert the data to PyTorch tensors\n",
    "\n",
    "# download and load training dataset\n",
    "trainset = torchvision.datasets.MNIST(\n",
    "    root=\"./data\", train=True, download=True, transform=transform\n",
    ")\n",
    "# download and load testing dataset\n",
    "testset = torchvision.datasets.MNIST(\n",
    "    root=\"./data\", train=False, download=True, transform=transform\n",
    ")"
   ]
  },
  {
   "cell_type": "code",
   "execution_count": 7,
   "metadata": {},
   "outputs": [],
   "source": [
    "trainloader = torch.utils.data.DataLoader(trainset, batch_size=64, shuffle=True)\n",
    "testloader = torch.utils.data.DataLoader(testset, batch_size=64, shuffle=False)"
   ]
  },
  {
   "cell_type": "code",
   "execution_count": 8,
   "metadata": {},
   "outputs": [
    {
     "name": "stdout",
     "output_type": "stream",
     "text": [
      "torch.Size([64, 1, 28, 28]) torch.Size([64])\n"
     ]
    }
   ],
   "source": [
    "for data, label in trainloader:\n",
    "    print(data.shape, label.shape)\n",
    "    break"
   ]
  },
  {
   "cell_type": "markdown",
   "metadata": {},
   "source": [
    "here, 64 refers to the number of images in each batch (batch size). 1 refers to the number of channels in each image (MNIST images are grayscale, so they have only one channel). 28 and 28 refer to the height and width of each image, respectively. So basically, for the model, we have **input images of size 28x28 pixels**, and we are feeding 64 images at a time to the model.\n"
   ]
  },
  {
   "cell_type": "code",
   "execution_count": 9,
   "metadata": {},
   "outputs": [
    {
     "data": {
      "text/plain": [
       "(tensor([[[0.0000, 0.0000, 0.0000, 0.0000, 0.0000, 0.0000, 0.0000, 0.0000,\n",
       "           0.0000, 0.0000, 0.0000, 0.0000, 0.0000, 0.0000, 0.0000, 0.0000,\n",
       "           0.0000, 0.0000, 0.0000, 0.0000, 0.0000, 0.0000, 0.0000, 0.0000,\n",
       "           0.0000, 0.0000, 0.0000, 0.0000],\n",
       "          [0.0000, 0.0000, 0.0000, 0.0000, 0.0000, 0.0000, 0.0000, 0.0000,\n",
       "           0.0000, 0.0000, 0.0000, 0.0000, 0.0000, 0.0000, 0.0000, 0.0000,\n",
       "           0.0000, 0.0000, 0.0000, 0.0000, 0.0000, 0.0000, 0.0000, 0.0000,\n",
       "           0.0000, 0.0000, 0.0000, 0.0000],\n",
       "          [0.0000, 0.0000, 0.0000, 0.0000, 0.0000, 0.0000, 0.0000, 0.0000,\n",
       "           0.0000, 0.0000, 0.0000, 0.0000, 0.0000, 0.0000, 0.0000, 0.0000,\n",
       "           0.0000, 0.0000, 0.0000, 0.0000, 0.0000, 0.0000, 0.0000, 0.0000,\n",
       "           0.0000, 0.0000, 0.0000, 0.0000],\n",
       "          [0.0000, 0.0000, 0.0000, 0.0000, 0.0000, 0.0000, 0.0000, 0.0000,\n",
       "           0.0000, 0.0000, 0.0000, 0.0000, 0.0000, 0.0000, 0.0000, 0.0000,\n",
       "           0.0000, 0.0000, 0.0000, 0.0000, 0.0000, 0.0000, 0.0000, 0.0000,\n",
       "           0.0000, 0.0000, 0.0000, 0.0000],\n",
       "          [0.0000, 0.0000, 0.0000, 0.0000, 0.0000, 0.0000, 0.0000, 0.0000,\n",
       "           0.0000, 0.0000, 0.0000, 0.0000, 0.0000, 0.0000, 0.0000, 0.0000,\n",
       "           0.0000, 0.0000, 0.0000, 0.0000, 0.0000, 0.0000, 0.0000, 0.0000,\n",
       "           0.0000, 0.0000, 0.0000, 0.0000],\n",
       "          [0.0000, 0.0000, 0.0000, 0.0000, 0.0000, 0.0000, 0.0000, 0.0000,\n",
       "           0.0000, 0.0000, 0.0000, 0.0000, 0.0118, 0.0706, 0.0706, 0.0706,\n",
       "           0.4941, 0.5333, 0.6863, 0.1020, 0.6510, 1.0000, 0.9686, 0.4980,\n",
       "           0.0000, 0.0000, 0.0000, 0.0000],\n",
       "          [0.0000, 0.0000, 0.0000, 0.0000, 0.0000, 0.0000, 0.0000, 0.0000,\n",
       "           0.1176, 0.1412, 0.3686, 0.6039, 0.6667, 0.9922, 0.9922, 0.9922,\n",
       "           0.9922, 0.9922, 0.8824, 0.6745, 0.9922, 0.9490, 0.7647, 0.2510,\n",
       "           0.0000, 0.0000, 0.0000, 0.0000],\n",
       "          [0.0000, 0.0000, 0.0000, 0.0000, 0.0000, 0.0000, 0.0000, 0.1922,\n",
       "           0.9333, 0.9922, 0.9922, 0.9922, 0.9922, 0.9922, 0.9922, 0.9922,\n",
       "           0.9922, 0.9843, 0.3647, 0.3216, 0.3216, 0.2196, 0.1529, 0.0000,\n",
       "           0.0000, 0.0000, 0.0000, 0.0000],\n",
       "          [0.0000, 0.0000, 0.0000, 0.0000, 0.0000, 0.0000, 0.0000, 0.0706,\n",
       "           0.8588, 0.9922, 0.9922, 0.9922, 0.9922, 0.9922, 0.7765, 0.7137,\n",
       "           0.9686, 0.9451, 0.0000, 0.0000, 0.0000, 0.0000, 0.0000, 0.0000,\n",
       "           0.0000, 0.0000, 0.0000, 0.0000],\n",
       "          [0.0000, 0.0000, 0.0000, 0.0000, 0.0000, 0.0000, 0.0000, 0.0000,\n",
       "           0.3137, 0.6118, 0.4196, 0.9922, 0.9922, 0.8039, 0.0431, 0.0000,\n",
       "           0.1686, 0.6039, 0.0000, 0.0000, 0.0000, 0.0000, 0.0000, 0.0000,\n",
       "           0.0000, 0.0000, 0.0000, 0.0000],\n",
       "          [0.0000, 0.0000, 0.0000, 0.0000, 0.0000, 0.0000, 0.0000, 0.0000,\n",
       "           0.0000, 0.0549, 0.0039, 0.6039, 0.9922, 0.3529, 0.0000, 0.0000,\n",
       "           0.0000, 0.0000, 0.0000, 0.0000, 0.0000, 0.0000, 0.0000, 0.0000,\n",
       "           0.0000, 0.0000, 0.0000, 0.0000],\n",
       "          [0.0000, 0.0000, 0.0000, 0.0000, 0.0000, 0.0000, 0.0000, 0.0000,\n",
       "           0.0000, 0.0000, 0.0000, 0.5451, 0.9922, 0.7451, 0.0078, 0.0000,\n",
       "           0.0000, 0.0000, 0.0000, 0.0000, 0.0000, 0.0000, 0.0000, 0.0000,\n",
       "           0.0000, 0.0000, 0.0000, 0.0000],\n",
       "          [0.0000, 0.0000, 0.0000, 0.0000, 0.0000, 0.0000, 0.0000, 0.0000,\n",
       "           0.0000, 0.0000, 0.0000, 0.0431, 0.7451, 0.9922, 0.2745, 0.0000,\n",
       "           0.0000, 0.0000, 0.0000, 0.0000, 0.0000, 0.0000, 0.0000, 0.0000,\n",
       "           0.0000, 0.0000, 0.0000, 0.0000],\n",
       "          [0.0000, 0.0000, 0.0000, 0.0000, 0.0000, 0.0000, 0.0000, 0.0000,\n",
       "           0.0000, 0.0000, 0.0000, 0.0000, 0.1373, 0.9451, 0.8824, 0.6275,\n",
       "           0.4235, 0.0039, 0.0000, 0.0000, 0.0000, 0.0000, 0.0000, 0.0000,\n",
       "           0.0000, 0.0000, 0.0000, 0.0000],\n",
       "          [0.0000, 0.0000, 0.0000, 0.0000, 0.0000, 0.0000, 0.0000, 0.0000,\n",
       "           0.0000, 0.0000, 0.0000, 0.0000, 0.0000, 0.3176, 0.9412, 0.9922,\n",
       "           0.9922, 0.4667, 0.0980, 0.0000, 0.0000, 0.0000, 0.0000, 0.0000,\n",
       "           0.0000, 0.0000, 0.0000, 0.0000],\n",
       "          [0.0000, 0.0000, 0.0000, 0.0000, 0.0000, 0.0000, 0.0000, 0.0000,\n",
       "           0.0000, 0.0000, 0.0000, 0.0000, 0.0000, 0.0000, 0.1765, 0.7294,\n",
       "           0.9922, 0.9922, 0.5882, 0.1059, 0.0000, 0.0000, 0.0000, 0.0000,\n",
       "           0.0000, 0.0000, 0.0000, 0.0000],\n",
       "          [0.0000, 0.0000, 0.0000, 0.0000, 0.0000, 0.0000, 0.0000, 0.0000,\n",
       "           0.0000, 0.0000, 0.0000, 0.0000, 0.0000, 0.0000, 0.0000, 0.0627,\n",
       "           0.3647, 0.9882, 0.9922, 0.7333, 0.0000, 0.0000, 0.0000, 0.0000,\n",
       "           0.0000, 0.0000, 0.0000, 0.0000],\n",
       "          [0.0000, 0.0000, 0.0000, 0.0000, 0.0000, 0.0000, 0.0000, 0.0000,\n",
       "           0.0000, 0.0000, 0.0000, 0.0000, 0.0000, 0.0000, 0.0000, 0.0000,\n",
       "           0.0000, 0.9765, 0.9922, 0.9765, 0.2510, 0.0000, 0.0000, 0.0000,\n",
       "           0.0000, 0.0000, 0.0000, 0.0000],\n",
       "          [0.0000, 0.0000, 0.0000, 0.0000, 0.0000, 0.0000, 0.0000, 0.0000,\n",
       "           0.0000, 0.0000, 0.0000, 0.0000, 0.0000, 0.0000, 0.1804, 0.5098,\n",
       "           0.7176, 0.9922, 0.9922, 0.8118, 0.0078, 0.0000, 0.0000, 0.0000,\n",
       "           0.0000, 0.0000, 0.0000, 0.0000],\n",
       "          [0.0000, 0.0000, 0.0000, 0.0000, 0.0000, 0.0000, 0.0000, 0.0000,\n",
       "           0.0000, 0.0000, 0.0000, 0.0000, 0.1529, 0.5804, 0.8980, 0.9922,\n",
       "           0.9922, 0.9922, 0.9804, 0.7137, 0.0000, 0.0000, 0.0000, 0.0000,\n",
       "           0.0000, 0.0000, 0.0000, 0.0000],\n",
       "          [0.0000, 0.0000, 0.0000, 0.0000, 0.0000, 0.0000, 0.0000, 0.0000,\n",
       "           0.0000, 0.0000, 0.0941, 0.4471, 0.8667, 0.9922, 0.9922, 0.9922,\n",
       "           0.9922, 0.7882, 0.3059, 0.0000, 0.0000, 0.0000, 0.0000, 0.0000,\n",
       "           0.0000, 0.0000, 0.0000, 0.0000],\n",
       "          [0.0000, 0.0000, 0.0000, 0.0000, 0.0000, 0.0000, 0.0000, 0.0000,\n",
       "           0.0902, 0.2588, 0.8353, 0.9922, 0.9922, 0.9922, 0.9922, 0.7765,\n",
       "           0.3176, 0.0078, 0.0000, 0.0000, 0.0000, 0.0000, 0.0000, 0.0000,\n",
       "           0.0000, 0.0000, 0.0000, 0.0000],\n",
       "          [0.0000, 0.0000, 0.0000, 0.0000, 0.0000, 0.0000, 0.0706, 0.6706,\n",
       "           0.8588, 0.9922, 0.9922, 0.9922, 0.9922, 0.7647, 0.3137, 0.0353,\n",
       "           0.0000, 0.0000, 0.0000, 0.0000, 0.0000, 0.0000, 0.0000, 0.0000,\n",
       "           0.0000, 0.0000, 0.0000, 0.0000],\n",
       "          [0.0000, 0.0000, 0.0000, 0.0000, 0.2157, 0.6745, 0.8863, 0.9922,\n",
       "           0.9922, 0.9922, 0.9922, 0.9569, 0.5216, 0.0431, 0.0000, 0.0000,\n",
       "           0.0000, 0.0000, 0.0000, 0.0000, 0.0000, 0.0000, 0.0000, 0.0000,\n",
       "           0.0000, 0.0000, 0.0000, 0.0000],\n",
       "          [0.0000, 0.0000, 0.0000, 0.0000, 0.5333, 0.9922, 0.9922, 0.9922,\n",
       "           0.8314, 0.5294, 0.5176, 0.0627, 0.0000, 0.0000, 0.0000, 0.0000,\n",
       "           0.0000, 0.0000, 0.0000, 0.0000, 0.0000, 0.0000, 0.0000, 0.0000,\n",
       "           0.0000, 0.0000, 0.0000, 0.0000],\n",
       "          [0.0000, 0.0000, 0.0000, 0.0000, 0.0000, 0.0000, 0.0000, 0.0000,\n",
       "           0.0000, 0.0000, 0.0000, 0.0000, 0.0000, 0.0000, 0.0000, 0.0000,\n",
       "           0.0000, 0.0000, 0.0000, 0.0000, 0.0000, 0.0000, 0.0000, 0.0000,\n",
       "           0.0000, 0.0000, 0.0000, 0.0000],\n",
       "          [0.0000, 0.0000, 0.0000, 0.0000, 0.0000, 0.0000, 0.0000, 0.0000,\n",
       "           0.0000, 0.0000, 0.0000, 0.0000, 0.0000, 0.0000, 0.0000, 0.0000,\n",
       "           0.0000, 0.0000, 0.0000, 0.0000, 0.0000, 0.0000, 0.0000, 0.0000,\n",
       "           0.0000, 0.0000, 0.0000, 0.0000],\n",
       "          [0.0000, 0.0000, 0.0000, 0.0000, 0.0000, 0.0000, 0.0000, 0.0000,\n",
       "           0.0000, 0.0000, 0.0000, 0.0000, 0.0000, 0.0000, 0.0000, 0.0000,\n",
       "           0.0000, 0.0000, 0.0000, 0.0000, 0.0000, 0.0000, 0.0000, 0.0000,\n",
       "           0.0000, 0.0000, 0.0000, 0.0000]]]),\n",
       " 5)"
      ]
     },
     "execution_count": 9,
     "metadata": {},
     "output_type": "execute_result"
    }
   ],
   "source": [
    "trainset[0]"
   ]
  },
  {
   "cell_type": "markdown",
   "metadata": {},
   "source": [
    "### Model\n",
    "\n",
    "This is a commonly used RNN architecture. The input to the RNN is a sequence of vectors, and the output is a single vector. The RNN processes the input sequence and produces the output vector. The output vector is then passed through a fully connected layer (aka feedforward neural network) to produce the final output.\n",
    "\n",
    "<div style=\"text-align:center\">\n",
    "<img src=\"https://docs.google.com/drawings/d/e/2PACX-1vQWhELhewvq_bHgqwf4vwDb5B9DN9-jAxeTF9Y73zr-OsW6OXC-ngxAfojivXyZEhjzLXceTZU2Ncz3/pub?w=550&h=600\" style=\"width:500pt\">\n",
    "</div>\n"
   ]
  },
  {
   "cell_type": "code",
   "execution_count": 16,
   "metadata": {},
   "outputs": [],
   "source": [
    "class SimpleRNN(nn.Module):\n",
    "    def __init__(self, batch_size, n_steps, n_inputs, n_neurons, n_outputs):\n",
    "        super(SimpleRNN, self).__init__()\n",
    "\n",
    "        self.n_neurons = 200  # number of neurons in the RNN layer\n",
    "        self.batch_size = 64  # batch size\n",
    "        self.n_steps = 28  # number of time steps in the RNN layer, in our case, it is 28 because we have 28 vectors, each of which has 28 elements\n",
    "        self.n_inputs = 28  # number of input features in the RNN layer\n",
    "        self.n_outputs = 10  # number of output features in the RNN layer that will be passed to the FC layer\n",
    "\n",
    "        self.basic_rnn = nn.RNN(self.n_inputs, self.n_neurons)  # create an RNN layer\n",
    "        self.FC = nn.Linear(\n",
    "            self.n_neurons, self.n_outputs\n",
    "        )  # create a fully connected layer\n",
    "\n",
    "    # hidden state initialization, understand it as the memory of the RNN that will be passed from one time step to the next\n",
    "    def init_hidden(\n",
    "        self,\n",
    "    ):\n",
    "        # (num_layers, batch_size, n_neurons)\n",
    "        return torch.zeros(1, self.batch_size, self.n_neurons)\n",
    "\n",
    "    def forward(self, X):\n",
    "        # transforms X to dimensions: n_steps X batch_size X n_inputs. This is required by the RNN layer, see the documentation (https://pytorch.org/docs/stable/generated/torch.nn.RNN.html)\n",
    "        X = X.permute(\n",
    "            1, 0, 2\n",
    "        )  # in this case, because the input is actually 64 X 28 X 28, we need to permute it to 28 X 64 X 28\n",
    "\n",
    "        self.batch_size = X.size(1)\n",
    "        self.hidden = self.init_hidden()\n",
    "        self.hidden = self.hidden.to(device)\n",
    "\n",
    "        # rnn_out => n_steps, batch_size, n_neurons (hidden states for each time step)\n",
    "        # self.hidden => 1, batch_size, n_neurons (final state from each lstm_out)\n",
    "        rnn_out, self.hidden = self.basic_rnn(X, self.hidden)\n",
    "        out = self.FC(self.hidden)\n",
    "\n",
    "        return out.view(-1, self.n_outputs)  # batch_size X n_output"
   ]
  },
  {
   "cell_type": "code",
   "execution_count": 17,
   "metadata": {},
   "outputs": [
    {
     "name": "stdout",
     "output_type": "stream",
     "text": [
      "Epoch:  0 | Loss: 2.1586 | Train Accuracy: 21.57\n",
      "Epoch:  1 | Loss: 1.2264 | Train Accuracy: 57.72\n",
      "Epoch:  2 | Loss: 0.7210 | Train Accuracy: 77.51\n",
      "Epoch:  3 | Loss: 0.5099 | Train Accuracy: 84.70\n",
      "Epoch:  4 | Loss: 0.3872 | Train Accuracy: 88.42\n",
      "Epoch:  5 | Loss: 0.3284 | Train Accuracy: 90.39\n",
      "Epoch:  6 | Loss: 0.2572 | Train Accuracy: 92.63\n",
      "Epoch:  7 | Loss: 0.2214 | Train Accuracy: 93.58\n",
      "Epoch:  8 | Loss: 0.1960 | Train Accuracy: 94.41\n",
      "Epoch:  9 | Loss: 0.1760 | Train Accuracy: 94.88\n",
      "Epoch:  10 | Loss: 0.1601 | Train Accuracy: 95.39\n",
      "Epoch:  11 | Loss: 0.1474 | Train Accuracy: 95.71\n",
      "Epoch:  12 | Loss: 0.1369 | Train Accuracy: 96.09\n",
      "Epoch:  13 | Loss: 0.1277 | Train Accuracy: 96.34\n",
      "Epoch:  14 | Loss: 0.1220 | Train Accuracy: 96.48\n",
      "Epoch:  15 | Loss: 0.1129 | Train Accuracy: 96.77\n",
      "Epoch:  16 | Loss: 0.1086 | Train Accuracy: 96.97\n",
      "Epoch:  17 | Loss: 0.1032 | Train Accuracy: 97.00\n",
      "Epoch:  18 | Loss: 0.1120 | Train Accuracy: 96.96\n",
      "Epoch:  19 | Loss: 0.0951 | Train Accuracy: 97.34\n",
      "Epoch:  20 | Loss: 0.0914 | Train Accuracy: 97.41\n",
      "Epoch:  21 | Loss: 0.0868 | Train Accuracy: 97.50\n",
      "Epoch:  22 | Loss: 0.0859 | Train Accuracy: 97.59\n",
      "Epoch:  23 | Loss: 0.0810 | Train Accuracy: 97.66\n",
      "Epoch:  24 | Loss: 0.0768 | Train Accuracy: 97.80\n",
      "Epoch:  25 | Loss: 0.0747 | Train Accuracy: 97.90\n",
      "Epoch:  26 | Loss: 0.0726 | Train Accuracy: 97.91\n",
      "Epoch:  27 | Loss: 0.0717 | Train Accuracy: 97.93\n",
      "Epoch:  28 | Loss: 0.0670 | Train Accuracy: 98.07\n",
      "Epoch:  29 | Loss: 0.0660 | Train Accuracy: 98.15\n",
      "Epoch:  30 | Loss: 0.0630 | Train Accuracy: 98.19\n",
      "Epoch:  31 | Loss: 0.0593 | Train Accuracy: 98.32\n",
      "Epoch:  32 | Loss: 0.0608 | Train Accuracy: 98.30\n",
      "Epoch:  33 | Loss: 0.0575 | Train Accuracy: 98.33\n",
      "Epoch:  34 | Loss: 0.0547 | Train Accuracy: 98.42\n",
      "Epoch:  35 | Loss: 0.0548 | Train Accuracy: 98.42\n",
      "Epoch:  36 | Loss: 0.0516 | Train Accuracy: 98.50\n",
      "Epoch:  37 | Loss: 0.0511 | Train Accuracy: 98.51\n",
      "Epoch:  38 | Loss: 0.0489 | Train Accuracy: 98.61\n",
      "Epoch:  39 | Loss: 0.0476 | Train Accuracy: 98.60\n",
      "Epoch:  40 | Loss: 0.0474 | Train Accuracy: 98.66\n",
      "Epoch:  41 | Loss: 0.0456 | Train Accuracy: 98.70\n",
      "Epoch:  42 | Loss: 0.0443 | Train Accuracy: 98.71\n",
      "Epoch:  43 | Loss: 0.0441 | Train Accuracy: 98.71\n",
      "Epoch:  44 | Loss: 0.0414 | Train Accuracy: 98.83\n",
      "Epoch:  45 | Loss: 0.0393 | Train Accuracy: 98.85\n",
      "Epoch:  46 | Loss: 0.0392 | Train Accuracy: 98.86\n",
      "Epoch:  47 | Loss: 0.0387 | Train Accuracy: 98.90\n",
      "Epoch:  48 | Loss: 0.0367 | Train Accuracy: 98.94\n",
      "Epoch:  49 | Loss: 0.0374 | Train Accuracy: 98.91\n",
      "Epoch:  50 | Loss: 0.0357 | Train Accuracy: 98.96\n",
      "Epoch:  51 | Loss: 0.0355 | Train Accuracy: 99.00\n",
      "Epoch:  52 | Loss: 0.0347 | Train Accuracy: 99.01\n",
      "Epoch:  53 | Loss: 0.0326 | Train Accuracy: 99.08\n",
      "Epoch:  54 | Loss: 0.0308 | Train Accuracy: 99.11\n",
      "Epoch:  55 | Loss: 0.0313 | Train Accuracy: 99.09\n",
      "Epoch:  56 | Loss: 0.0301 | Train Accuracy: 99.12\n",
      "Epoch:  57 | Loss: 0.0286 | Train Accuracy: 99.18\n",
      "Epoch:  58 | Loss: 0.0304 | Train Accuracy: 99.14\n",
      "Epoch:  59 | Loss: 0.0268 | Train Accuracy: 99.28\n",
      "Epoch:  60 | Loss: 0.0287 | Train Accuracy: 99.19\n",
      "Epoch:  61 | Loss: 0.0266 | Train Accuracy: 99.21\n",
      "Epoch:  62 | Loss: 0.0271 | Train Accuracy: 99.24\n",
      "Epoch:  63 | Loss: 0.0251 | Train Accuracy: 99.32\n",
      "Epoch:  64 | Loss: 0.0271 | Train Accuracy: 99.22\n",
      "Epoch:  65 | Loss: 0.0266 | Train Accuracy: 99.24\n",
      "Epoch:  66 | Loss: 0.0254 | Train Accuracy: 99.28\n",
      "Epoch:  67 | Loss: 0.0222 | Train Accuracy: 99.38\n",
      "Epoch:  68 | Loss: 0.0241 | Train Accuracy: 99.32\n",
      "Epoch:  69 | Loss: 0.0229 | Train Accuracy: 99.33\n",
      "Epoch:  70 | Loss: 0.0219 | Train Accuracy: 99.42\n",
      "Epoch:  71 | Loss: 0.0214 | Train Accuracy: 99.42\n",
      "Epoch:  72 | Loss: 0.0203 | Train Accuracy: 99.45\n",
      "Epoch:  73 | Loss: 0.0188 | Train Accuracy: 99.47\n",
      "Epoch:  74 | Loss: 0.0184 | Train Accuracy: 99.49\n",
      "Epoch:  75 | Loss: 0.0197 | Train Accuracy: 99.47\n",
      "Epoch:  76 | Loss: 0.0190 | Train Accuracy: 99.49\n",
      "Epoch:  77 | Loss: 0.0172 | Train Accuracy: 99.55\n",
      "Epoch:  78 | Loss: 0.0160 | Train Accuracy: 99.58\n",
      "Epoch:  79 | Loss: 0.0156 | Train Accuracy: 99.63\n",
      "Epoch:  80 | Loss: 0.0168 | Train Accuracy: 99.53\n",
      "Epoch:  81 | Loss: 0.0167 | Train Accuracy: 99.55\n",
      "Epoch:  82 | Loss: 0.0164 | Train Accuracy: 99.59\n",
      "Epoch:  83 | Loss: 0.0161 | Train Accuracy: 99.55\n",
      "Epoch:  84 | Loss: 0.0152 | Train Accuracy: 99.59\n",
      "Epoch:  85 | Loss: 0.0162 | Train Accuracy: 99.54\n",
      "Epoch:  86 | Loss: 0.0133 | Train Accuracy: 99.67\n",
      "Epoch:  87 | Loss: 0.0147 | Train Accuracy: 99.63\n",
      "Epoch:  88 | Loss: 0.0129 | Train Accuracy: 99.66\n",
      "Epoch:  89 | Loss: 0.0159 | Train Accuracy: 99.59\n",
      "Epoch:  90 | Loss: 0.0113 | Train Accuracy: 99.75\n",
      "Epoch:  91 | Loss: 0.0122 | Train Accuracy: 99.71\n",
      "Epoch:  92 | Loss: 0.0112 | Train Accuracy: 99.73\n",
      "Epoch:  93 | Loss: 0.0120 | Train Accuracy: 99.71\n",
      "Epoch:  94 | Loss: 0.0164 | Train Accuracy: 99.59\n",
      "Epoch:  95 | Loss: 0.0157 | Train Accuracy: 99.59\n",
      "Epoch:  96 | Loss: 0.0132 | Train Accuracy: 99.68\n",
      "Epoch:  97 | Loss: 0.0099 | Train Accuracy: 99.81\n",
      "Epoch:  98 | Loss: 0.0077 | Train Accuracy: 99.86\n",
      "Epoch:  99 | Loss: 0.0104 | Train Accuracy: 99.78\n"
     ]
    }
   ],
   "source": [
    "# Device\n",
    "device = torch.device(\"cuda:0\" if torch.cuda.is_available() else \"cpu\")\n",
    "\n",
    "# Model instance\n",
    "model = SimpleRNN(64, 28, 28, 200, 10)\n",
    "model.to(device)\n",
    "loss_func = (\n",
    "    nn.CrossEntropyLoss()\n",
    ")  # loss function, here it automatically applies softmax\n",
    "optimizer = torch.optim.SGD(model.parameters(), lr=0.01)\n",
    "\n",
    "\n",
    "def get_accuracy(logit, target, batch_size):\n",
    "    \"\"\"Obtain accuracy for training round\"\"\"\n",
    "    corrects = (torch.max(logit, 1)[1].view(target.size()).data == target.data).sum()\n",
    "    accuracy = 100.0 * corrects / batch_size\n",
    "    return accuracy.item()\n",
    "\n",
    "\n",
    "for epoch in range(100):  # loop over the dataset multiple times\n",
    "    train_running_loss = 0.0\n",
    "    train_acc = 0.0\n",
    "    model.train()\n",
    "\n",
    "    # TRAINING ROUND\n",
    "    for i, data in enumerate(trainloader):\n",
    "        # reset hidden states\n",
    "        model.hidden = model.init_hidden()\n",
    "\n",
    "        # get the inputs\n",
    "        inputs, labels = data\n",
    "        inputs, labels = inputs.to(device), labels.to(device)\n",
    "        inputs = inputs.view(-1, 28, 28)\n",
    "\n",
    "        # forward + backward + optimize\n",
    "        outputs = model(inputs)\n",
    "        loss = loss_func(outputs, labels)\n",
    "        optimizer.zero_grad()\n",
    "        loss.backward()\n",
    "        optimizer.step()\n",
    "\n",
    "        train_running_loss += loss.detach().item()\n",
    "        train_acc += get_accuracy(outputs, labels, 64)\n",
    "\n",
    "    model.eval()\n",
    "    print(\n",
    "        \"Epoch:  %d | Loss: %.4f | Train Accuracy: %.2f\"\n",
    "        % (epoch, train_running_loss / i, train_acc / i)\n",
    "    )"
   ]
  },
  {
   "cell_type": "code",
   "execution_count": 19,
   "metadata": {},
   "outputs": [
    {
     "name": "stdout",
     "output_type": "stream",
     "text": [
      "Test Accuracy: 98.38\n"
     ]
    }
   ],
   "source": [
    "test_acc = 0.0\n",
    "for i, data in enumerate(testloader, 0):\n",
    "    inputs, labels = data\n",
    "    inputs = inputs.view(-1, 28, 28)\n",
    "    inputs, labels = inputs.to(device), labels.to(device)\n",
    "\n",
    "    outputs = model(inputs)\n",
    "\n",
    "    test_acc += get_accuracy(outputs, labels, 64)\n",
    "\n",
    "print(\"Test Accuracy: %.2f\" % (test_acc / i))"
   ]
  },
  {
   "cell_type": "markdown",
   "metadata": {},
   "source": [
    "# Exercise\n",
    "\n",
    "<b>Note: The Exercises in this tutorial are for your practice only. They will not be graded.</b>\n",
    "\n",
    "## A Multi-class Classification Problem\n",
    "\n",
    "**Dataset**: Make a multi-class classification dataset with [CS231n](https://cs231n.github.io/neural-networks-case-study/).\n",
    "\n",
    "- For consistency, the dataset should have 100000 samples and a `random_state=42` (keeps the same in the whole notebook exercises).\n",
    "\n",
    "**RUN BELOW CODES!**\n"
   ]
  },
  {
   "cell_type": "code",
   "execution_count": 51,
   "metadata": {},
   "outputs": [
    {
     "data": {
      "image/png": "[encoded data removed]",
      "text/plain": [
       "<Figure size 640x480 with 1 Axes>"
      ]
     },
     "metadata": {},
     "output_type": "display_data"
    }
   ],
   "source": [
    "import pandas as pd\n",
    "import numpy as np\n",
    "\n",
    "\n",
    "RANDOM_SEED = 42\n",
    "\n",
    "\n",
    "np.random.seed(RANDOM_SEED)\n",
    "N = 100000  # number of points per class\n",
    "D = 2  # dimensionality\n",
    "K = 4  # number of classes\n",
    "X = np.zeros((N * K, D))  # data matrix (each row = single example)\n",
    "y = np.zeros(N * K, dtype=\"uint8\")  # class labels\n",
    "for j in range(K):\n",
    "    ix = range(N * j, N * (j + 1))\n",
    "    r = np.linspace(0.0, 1, N)  # radius\n",
    "    t = np.linspace(j * 4, (j + 1) * 4, N) + np.random.randn(N) * 0.2  # theta\n",
    "    X[ix] = np.c_[r * np.sin(t), r * np.cos(t)]\n",
    "    y[ix] = j\n",
    "# lets visualize the data\n",
    "plt.scatter(X[:, 0], X[:, 1], c=y, cmap=plt.cm.RdYlBu)\n",
    "plt.show()"
   ]
  },
  {
   "cell_type": "markdown",
   "metadata": {},
   "source": [
    "**Q1: Data Preprocessing**\n",
    "\n",
    "- Split the data into training and test sets using `train_test_split` with 80% training and 20% testing.\n",
    "\n",
    "- Create a DataLoader for the training and test sets using `torch.utils.data.DataLoader` and `torch.utils.data.TensorDataset`. Set the batch size to 64.\n"
   ]
  },
  {
   "cell_type": "code",
   "execution_count": 52,
   "metadata": {},
   "outputs": [],
   "source": [
    "# Create a dataset and dataloader\n",
    "import torch\n",
    "\n",
    "from torch.utils.data import TensorDataset, DataLoader\n",
    "from sklearn.model_selection import train_test_split\n",
    "\n",
    "X = torch.tensor(X, dtype=torch.float32)\n",
    "y = torch.tensor(y, dtype=torch.float32)\n",
    "\n",
    "\n",
    "X_train, X_test, y_train, y_test = train_test_split(\n",
    "    X, y, test_size=0.2, random_state=RANDOM_SEED\n",
    ")\n",
    "\n",
    "\n",
    "train_dataset = TensorDataset(X_train, y_train)\n",
    "train_loader = DataLoader(dataset=train_dataset, batch_size=128, shuffle=True)\n",
    "\n",
    "test_dataset = TensorDataset(X_test, y_test)\n",
    "test_loader = DataLoader(dataset=test_dataset, batch_size=128, shuffle=False)"
   ]
  },
  {
   "cell_type": "markdown",
   "metadata": {},
   "source": [
    "**Q2: Model Construction**\n",
    "\n",
    "Build a model by subclassing `nn.Module` that incorporates non-linear activation functions and is capable of fitting the data you created in 1.\n",
    "You might build the model using below structure:\n",
    "\n",
    "- Input layer\n",
    "- One hidden layer with 32 neurons and ReLU activation function\n",
    "- One hidden layer with 16 neurons and ReLU activation function\n",
    "- One output layer with 4 neurons (since we have 4 classes) and softmax activation function (it has been combined with the loss function in PyTorch so we don't need to specify it separately).\n",
    "\n",
    "* Feel free to use any combination of PyTorch layers (linear and non-linear) you want.\n"
   ]
  },
  {
   "cell_type": "code",
   "execution_count": 63,
   "metadata": {},
   "outputs": [],
   "source": [
    "import torch.nn as nn\n",
    "import torch.nn.functional as F\n",
    "\n",
    "\n",
    "class MyModel(nn.Module):\n",
    "\n",
    "    def __init__(self):\n",
    "        super(MyModel, self).__init__()\n",
    "        self.input_layer = nn.Linear(2, 32)\n",
    "        self.hidden_layer1 = nn.Linear(32, 16) \n",
    "        self.hidden_layer2 = nn.Linear(16, 4)  # this is the output layer\n",
    "        self.relu = nn.ReLU()\n",
    "\n",
    "    def forward(self, x):\n",
    "        x = self.relu(self.input_layer(x))\n",
    "        x = self.relu(self.hidden_layer1(x))\n",
    "        x = self.hidden_layer2(x)\n",
    "        return x\n",
    "\n",
    "model = MyModel()"
   ]
  },
  {
   "cell_type": "code",
   "execution_count": 64,
   "metadata": {},
   "outputs": [
    {
     "name": "stdout",
     "output_type": "stream",
     "text": [
      "MyModel(\n",
      "  (input_layer): Linear(in_features=2, out_features=32, bias=True)\n",
      "  (hidden_layer1): Linear(in_features=32, out_features=16, bias=True)\n",
      "  (hidden_layer2): Linear(in_features=16, out_features=4, bias=True)\n",
      "  (relu): ReLU()\n",
      ")\n"
     ]
    }
   ],
   "source": [
    "print(model)"
   ]
  },
  {
   "cell_type": "markdown",
   "metadata": {},
   "source": [
    "**Q3: Loss Function and Optimizer**\n",
    "\n",
    "Define a loss function and an optimizer for the model you built in 2. Use `CrossEntropyLoss` as the loss function and `SGD` as the optimizer (set `learning rate` as `0.01`).\n"
   ]
  },
  {
   "cell_type": "code",
   "execution_count": 65,
   "metadata": {},
   "outputs": [],
   "source": [
    "loss_func = nn.CrossEntropyLoss()\n",
    "optimizer = torch.optim.SGD(model.parameters(), lr=0.001)"
   ]
  },
  {
   "cell_type": "markdown",
   "metadata": {},
   "source": [
    "**Q4: Training Loop**\n",
    "\n",
    "- Train the model using the batches you created in 4.\n",
    "- Use the model you built in 2\n",
    "- Use the loss function and the optimizer you defined in 3.\n",
    "- Train the model for 20 epochs.\n",
    "- Print the loss of the model for each epoch.\n"
   ]
  },
  {
   "cell_type": "code",
   "execution_count": 69,
   "metadata": {},
   "outputs": [],
   "source": [
    "device = torch.device(\"cuda:0\" if torch.cuda.is_available() else \"cpu\")\n",
    "model.to(device)\n",
    "\n",
    "def train_model(model, optimizer, train_loader, loss_func, num_epochs=20):\n",
    "    model.train()\n",
    "    for epoch in range(num_epochs):\n",
    "        epoch_loss = 0.0\n",
    "        for batch_data, batch_labels in train_loader:\n",
    "            batch_data, batch_labels = batch_data.to(device), batch_labels.to(device)\n",
    "            preds = model(batch_data)\n",
    "            preds = preds.squeeze()\n",
    "            loss = loss_func(preds, batch_labels.long())\n",
    "            optimizer.zero_grad()\n",
    "            loss.backward()\n",
    "            optimizer.step()\n",
    "            epoch_loss += loss.item() * batch_data.size(0)\n",
    "\n",
    "        epoch_loss = epoch_loss / len(train_loader.dataset)\n",
    "        print(f\"Epoch {epoch}, Loss: {epoch_loss}\")"
   ]
  },
  {
   "cell_type": "code",
   "execution_count": 70,
   "metadata": {},
   "outputs": [
    {
     "name": "stdout",
     "output_type": "stream",
     "text": [
      "Epoch 0, Loss: 1.3767678563594818\n",
      "Epoch 1, Loss: 1.3490449534893036\n",
      "Epoch 2, Loss: 1.3104899307727813\n",
      "Epoch 3, Loss: 1.2532174760341643\n",
      "Epoch 4, Loss: 1.1849911558628081\n",
      "Epoch 5, Loss: 1.1194672627925872\n",
      "Epoch 6, Loss: 1.0684887101650238\n",
      "Epoch 7, Loss: 1.033554447889328\n",
      "Epoch 8, Loss: 1.00962527654171\n",
      "Epoch 9, Loss: 0.9915794150829316\n",
      "Epoch 10, Loss: 0.9762448532342911\n",
      "Epoch 11, Loss: 0.9618641359329224\n",
      "Epoch 12, Loss: 0.9474444557666779\n",
      "Epoch 13, Loss: 0.9323934173345566\n",
      "Epoch 14, Loss: 0.9163566785573959\n",
      "Epoch 15, Loss: 0.899155907869339\n",
      "Epoch 16, Loss: 0.8807876122951508\n",
      "Epoch 17, Loss: 0.8613748348474503\n",
      "Epoch 18, Loss: 0.8411351382732392\n",
      "Epoch 19, Loss: 0.820317779803276\n"
     ]
    }
   ],
   "source": [
    "train_model(model, optimizer, train_loader, loss_func, num_epochs=20)"
   ]
  },
  {
   "cell_type": "markdown",
   "metadata": {},
   "source": [
    "**Q5: Evaluation**\n",
    "\n",
    "- Evaluate the model on the test set.\n",
    "- Calculate the accuracy of the model on the test set.\n"
   ]
  },
  {
   "cell_type": "code",
   "execution_count": 75,
   "metadata": {},
   "outputs": [
    {
     "name": "stdout",
     "output_type": "stream",
     "text": [
      "Accuracy of the model: 97.42%\n"
     ]
    }
   ],
   "source": [
    "def eval_model(model, test_loader):\n",
    "    model.eval()\n",
    "    true_preds, num_preds = 0, 0\n",
    "    with torch.no_grad():\n",
    "        for batch_data, batch_labels in test_loader:\n",
    "            batch_data, batch_labels = batch_data.to(device), batch_labels.to(device)\n",
    "            preds = model(batch_data)\n",
    "            preds = preds.squeeze()\n",
    "            pred_labels = (preds >= 0.5).long()\n",
    "            true_preds += (pred_labels == batch_labels.unsqueeze(1)).sum() # unsqueeze to match the shape of pred_labels\n",
    "            num_preds += batch_labels.shape[0]\n",
    "    acc = true_preds / num_preds\n",
    "\n",
    "    print(f\"Accuracy of the model: {100.0*acc:4.2f}%\")\n",
    "\n",
    "eval_model(model, test_loader)"
   ]
  }
 ],
 "metadata": {
  "kernelspec": {
   "display_name": "is4242",
   "language": "python",
   "name": "python3"
  },
  "language_info": {
   "codemirror_mode": {
    "name": "ipython",
    "version": 3
   },
   "file_extension": ".py",
   "mimetype": "text/x-python",
   "name": "python",
   "nbconvert_exporter": "python",
   "pygments_lexer": "ipython3",
   "version": "3.9.19"
  }
 },
 "nbformat": 4,
 "nbformat_minor": 2
}
